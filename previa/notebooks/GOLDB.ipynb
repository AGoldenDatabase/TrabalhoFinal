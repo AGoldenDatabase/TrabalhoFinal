{
  "nbformat": 4,
  "nbformat_minor": 0,
  "metadata": {
    "colab": {
      "name": "GOLDB.ipynb",
      "provenance": []
    },
    "kernelspec": {
      "name": "python3",
      "display_name": "Python 3"
    },
    "language_info": {
      "name": "python"
    }
  },
  "cells": [
    {
      "cell_type": "code",
      "metadata": {
        "id": "SlOKsgCdIJ0t"
      },
      "source": [
        "import pandas as pd\n",
        "import numpy as np\n",
        "import sqlite3 as sq"
      ],
      "execution_count": 1,
      "outputs": []
    },
    {
      "cell_type": "code",
      "metadata": {
        "id": "-7YcjzYWIy0j"
      },
      "source": [
        "gols = pd.read_excel('/content/Gols.xlsx')"
      ],
      "execution_count": 19,
      "outputs": []
    },
    {
      "cell_type": "code",
      "metadata": {
        "colab": {
          "base_uri": "https://localhost:8080/",
          "height": 419
        },
        "id": "am4Nm0F4L3py",
        "outputId": "781fac0f-08b1-4c40-ef78-76c76d50e023"
      },
      "source": [
        "gols"
      ],
      "execution_count": 20,
      "outputs": [
        {
          "output_type": "execute_result",
          "data": {
            "text/html": [
              "<div>\n",
              "<style scoped>\n",
              "    .dataframe tbody tr th:only-of-type {\n",
              "        vertical-align: middle;\n",
              "    }\n",
              "\n",
              "    .dataframe tbody tr th {\n",
              "        vertical-align: top;\n",
              "    }\n",
              "\n",
              "    .dataframe thead th {\n",
              "        text-align: right;\n",
              "    }\n",
              "</style>\n",
              "<table border=\"1\" class=\"dataframe\">\n",
              "  <thead>\n",
              "    <tr style=\"text-align: right;\">\n",
              "      <th></th>\n",
              "      <th>Time mandante</th>\n",
              "      <th>Time Visitante</th>\n",
              "      <th>Time Marcador</th>\n",
              "      <th>Tipo</th>\n",
              "      <th>Jogador</th>\n",
              "      <th>Primeiro/Segundo Tempo</th>\n",
              "      <th>Minuto</th>\n",
              "    </tr>\n",
              "  </thead>\n",
              "  <tbody>\n",
              "    <tr>\n",
              "      <th>0</th>\n",
              "      <td>Ceara</td>\n",
              "      <td>Fortaleza</td>\n",
              "      <td>Ceara</td>\n",
              "      <td>NR</td>\n",
              "      <td>Thiago Galhardo do Nascimento Rocha</td>\n",
              "      <td>1</td>\n",
              "      <td>14</td>\n",
              "    </tr>\n",
              "    <tr>\n",
              "      <th>1</th>\n",
              "      <td>Ceara</td>\n",
              "      <td>Fortaleza</td>\n",
              "      <td>Ceara</td>\n",
              "      <td>NR</td>\n",
              "      <td>Wanderson Felippe Cardoso dos Santos</td>\n",
              "      <td>1</td>\n",
              "      <td>17</td>\n",
              "    </tr>\n",
              "    <tr>\n",
              "      <th>2</th>\n",
              "      <td>Ceara</td>\n",
              "      <td>Fortaleza</td>\n",
              "      <td>Fortaleza</td>\n",
              "      <td>PN</td>\n",
              "      <td>Paulo Roberto Valoura Junior</td>\n",
              "      <td>1</td>\n",
              "      <td>46</td>\n",
              "    </tr>\n",
              "    <tr>\n",
              "      <th>3</th>\n",
              "      <td>Fluminense</td>\n",
              "      <td>Internacional</td>\n",
              "      <td>Fluminense</td>\n",
              "      <td>NR</td>\n",
              "      <td>Yony Alexander Gonzalez Copete</td>\n",
              "      <td>2</td>\n",
              "      <td>12</td>\n",
              "    </tr>\n",
              "    <tr>\n",
              "      <th>4</th>\n",
              "      <td>Fluminense</td>\n",
              "      <td>Internacional</td>\n",
              "      <td>Fluminense</td>\n",
              "      <td>CT</td>\n",
              "      <td>Natanael Batista Pimenta</td>\n",
              "      <td>2</td>\n",
              "      <td>22</td>\n",
              "    </tr>\n",
              "    <tr>\n",
              "      <th>...</th>\n",
              "      <td>...</td>\n",
              "      <td>...</td>\n",
              "      <td>...</td>\n",
              "      <td>...</td>\n",
              "      <td>...</td>\n",
              "      <td>...</td>\n",
              "      <td>...</td>\n",
              "    </tr>\n",
              "    <tr>\n",
              "      <th>58</th>\n",
              "      <td>Sao Paulo</td>\n",
              "      <td>Corinthians</td>\n",
              "      <td>Sao Paulo</td>\n",
              "      <td>PN</td>\n",
              "      <td>Reinaldo Manoel da Silva</td>\n",
              "      <td>2</td>\n",
              "      <td>20</td>\n",
              "    </tr>\n",
              "    <tr>\n",
              "      <th>59</th>\n",
              "      <td>Vasco da Gama</td>\n",
              "      <td>Fortaleza</td>\n",
              "      <td>Vasco da Gama</td>\n",
              "      <td>PN</td>\n",
              "      <td>Glaybson Yago Souza Lisboa</td>\n",
              "      <td>2</td>\n",
              "      <td>22</td>\n",
              "    </tr>\n",
              "    <tr>\n",
              "      <th>60</th>\n",
              "      <td>Athletico Paranaense</td>\n",
              "      <td>Flamengo</td>\n",
              "      <td>Flamengo</td>\n",
              "      <td>NR</td>\n",
              "      <td>Bruno Henrique Pinto</td>\n",
              "      <td>1</td>\n",
              "      <td>45</td>\n",
              "    </tr>\n",
              "    <tr>\n",
              "      <th>61</th>\n",
              "      <td>Athletico Paranaense</td>\n",
              "      <td>Flamengo</td>\n",
              "      <td>Flamengo</td>\n",
              "      <td>NR</td>\n",
              "      <td>Bruno Henrique Pinto</td>\n",
              "      <td>2</td>\n",
              "      <td>46</td>\n",
              "    </tr>\n",
              "    <tr>\n",
              "      <th>62</th>\n",
              "      <td>Ceara</td>\n",
              "      <td>Avai</td>\n",
              "      <td>Ceara</td>\n",
              "      <td>NR</td>\n",
              "      <td>Bergson Gustavo Silveira da Silva</td>\n",
              "      <td>2</td>\n",
              "      <td>44</td>\n",
              "    </tr>\n",
              "  </tbody>\n",
              "</table>\n",
              "<p>63 rows × 7 columns</p>\n",
              "</div>"
            ],
            "text/plain": [
              "           Time mandante Time Visitante  ... Primeiro/Segundo Tempo Minuto\n",
              "0                  Ceara      Fortaleza  ...                      1     14\n",
              "1                  Ceara      Fortaleza  ...                      1     17\n",
              "2                  Ceara      Fortaleza  ...                      1     46\n",
              "3             Fluminense  Internacional  ...                      2     12\n",
              "4             Fluminense  Internacional  ...                      2     22\n",
              "..                   ...            ...  ...                    ...    ...\n",
              "58             Sao Paulo    Corinthians  ...                      2     20\n",
              "59         Vasco da Gama      Fortaleza  ...                      2     22\n",
              "60  Athletico Paranaense       Flamengo  ...                      1     45\n",
              "61  Athletico Paranaense       Flamengo  ...                      2     46\n",
              "62                 Ceara           Avai  ...                      2     44\n",
              "\n",
              "[63 rows x 7 columns]"
            ]
          },
          "metadata": {},
          "execution_count": 20
        }
      ]
    },
    {
      "cell_type": "code",
      "metadata": {
        "id": "qeh9C6iIbrEm"
      },
      "source": [
        "con = sq.connect('GOLDB.db')\n",
        "\n",
        "cartaoAmarelo = pd.read_excel('/content/Cartoes amarelos.xlsx')\n",
        "cartaoVermelho = pd.read_excel('/content/Cartoes vermelhos.xlsx')\n",
        "jogadores = pd.read_excel('/content/Jogadores.xlsx')\n",
        "partidas = pd.read_excel('/content/Partidas.xlsx')\n",
        "subs = pd.read_excel('/content/Substituicoes.xlsx')\n",
        "treinadores = pd.read_excel('/content/Treinador.xlsx')"
      ],
      "execution_count": 21,
      "outputs": []
    },
    {
      "cell_type": "code",
      "metadata": {
        "colab": {
          "base_uri": "https://localhost:8080/"
        },
        "id": "CO2mpoeUYOyp",
        "outputId": "43de3cd3-c395-4751-879e-2f780a8ad65e"
      },
      "source": [
        "gols.to_sql(\"Gols\", con, if_exists=\"replace\")\n",
        "cartaoAmarelo.to_sql(\"CartaoAmarelo\", con, if_exists=\"replace\")\n",
        "cartaoVermelho.to_sql(\"CartaoVermelho\", con, if_exists=\"replace\")\n",
        "jogadores.to_sql(\"Jogadores\", con, if_exists=\"replace\")\n",
        "partidas.to_sql(\"Partidas\", con, if_exists=\"replace\")\n",
        "subs.to_sql(\"Substituicoes\", con, if_exists=\"replace\")\n",
        "treinadores.to_sql(\"Treinador\", con, if_exists=\"replace\")\n",
        "con.commit()"
      ],
      "execution_count": 22,
      "outputs": [
        {
          "output_type": "stream",
          "name": "stderr",
          "text": [
            "/usr/local/lib/python3.7/dist-packages/pandas/core/generic.py:2615: UserWarning: The spaces in these column names will not be changed. In pandas versions < 0.14, spaces were converted to underscores.\n",
            "  method=method,\n"
          ]
        }
      ]
    },
    {
      "cell_type": "code",
      "metadata": {
        "colab": {
          "base_uri": "https://localhost:8080/"
        },
        "id": "EyY9r_3WYyQ8",
        "outputId": "958e3a36-1fa2-4253-afd8-4c91959af2b3"
      },
      "source": [
        "con = sq.connect('GOLDB.db')\n",
        "cur = con.cursor()\n",
        "cur.execute(\"SELECT name FROM sqlite_master WHERE type='table';\")\n",
        "cur.fetchall()"
      ],
      "execution_count": 23,
      "outputs": [
        {
          "output_type": "execute_result",
          "data": {
            "text/plain": [
              "[('Gols',),\n",
              " ('CartaoAmarelo',),\n",
              " ('CartaoVermelho',),\n",
              " ('Jogadores',),\n",
              " ('Partidas',),\n",
              " ('Substituicoes',),\n",
              " ('Treinador',)]"
            ]
          },
          "metadata": {},
          "execution_count": 23
        }
      ]
    },
    {
      "cell_type": "code",
      "metadata": {
        "colab": {
          "base_uri": "https://localhost:8080/"
        },
        "id": "rv4qUiTSdon1",
        "outputId": "17e8ab03-3da0-457c-80fd-041782288cd8"
      },
      "source": [
        "cur.execute(\"SELECT Jogador FROM Gols;\").fetchall()"
      ],
      "execution_count": 25,
      "outputs": [
        {
          "output_type": "execute_result",
          "data": {
            "text/plain": [
              "[('Thiago Galhardo do Nascimento Rocha',),\n",
              " ('Wanderson Felippe Cardoso dos Santos',),\n",
              " ('Paulo Roberto Valoura Junior',),\n",
              " ('Yony Alexander Gonzalez Copete',),\n",
              " ('Natanael Batista Pimenta',),\n",
              " ('Edenilson Andrade dos Santos',),\n",
              " ('Everton Cardoso da Silva ',),\n",
              " ('Hudson Rodrigues dos Santos ',),\n",
              " ('Carlos Andres Sanchez Arcosa',),\n",
              " ('Lucas Verissimo da Silva',),\n",
              " ('Gustavo Henrique Vernes',),\n",
              " ('Eduardo Colcenti Antunes',),\n",
              " ('Yeferson Julio Soteldo Martinez',),\n",
              " ('Yeferson Julio Soteldo Martinez',),\n",
              " ('Kayke Moreno de Andrade Rodrigues',),\n",
              " ('Fabio Santos Romeu',),\n",
              " ('Feliciano Brizuela Baez',),\n",
              " ('Ricardo de Oliveira',),\n",
              " ('Everaldo Stum',),\n",
              " ('Everaldo Stum',),\n",
              " ('Pedro Rocha Neves',),\n",
              " ('Bruno Henrique Pinto',),\n",
              " ('Bruno Henrique Pinto',),\n",
              " ('Gabriel Barbosa Almeida',),\n",
              " ('Eduardo Colcenti Antunes',),\n",
              " ('Felipe Jonatan Rocha Andrade',),\n",
              " ('Everton Sousa Soares',),\n",
              " ('Gilberto Oliveira Souza Junior',),\n",
              " ('Gilberto Oliveira Souza Junior',),\n",
              " ('Gilberto Oliveira Souza Junior',),\n",
              " ('Ricardo Bueno da Silva',),\n",
              " ('Leandro Carvalho da Silva',),\n",
              " ('Joao Lucas Cardoso',),\n",
              " ('Ricardo Bueno da Silva',),\n",
              " ('Arthur Caike do Nascimento Cruz',),\n",
              " ('Pedro Victor Delmino da Silva',),\n",
              " ('Artur Victor Guimaraes',),\n",
              " ('Jose Rogerio de Oliveira Melo',),\n",
              " ('Clayson Henrique da Silva Vieira',),\n",
              " ('Bruno Guimaraes Rodriguez Moura',),\n",
              " ('Marco Gaston Ruben',),\n",
              " ('Werley Ananias da Silva',),\n",
              " ('Maycon Vinicius Ferreira da Cruz',),\n",
              " ('Bruno Cesar Zanaki',),\n",
              " ('Jose Rafael Vivian',),\n",
              " ('Marcos Luis Rocha Aquino',),\n",
              " ('Jose Rafael Vivian',),\n",
              " ('Bruno Henrique Corsini',),\n",
              " ('Rafael Vaz dos Santos',),\n",
              " ('Anderson Vital da Silva',),\n",
              " ('Fernando Camilo Farias',),\n",
              " ('Rafael Galhardo de Souza',),\n",
              " ('Maicon Thiago Pereira de Souza',),\n",
              " ('Franco Matias Di Santo',),\n",
              " ('Eduardo Gabriel Aquino Cossa',),\n",
              " ('Alisson Euler de Freitas Castro',),\n",
              " ('Alex Paulo Menezes Santana',),\n",
              " ('Marcelo da Conceiçao Benevenuto Malaquias',),\n",
              " ('Reinaldo Manoel da Silva',),\n",
              " ('Glaybson Yago Souza Lisboa',),\n",
              " ('Bruno Henrique Pinto',),\n",
              " ('Bruno Henrique Pinto',),\n",
              " ('Bergson Gustavo Silveira da Silva',)]"
            ]
          },
          "metadata": {},
          "execution_count": 25
        }
      ]
    }
  ]
}