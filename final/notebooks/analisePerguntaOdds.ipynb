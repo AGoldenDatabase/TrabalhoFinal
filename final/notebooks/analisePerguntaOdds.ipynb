{
  "cells": [
    {
      "cell_type": "code",
      "execution_count": 28,
      "metadata": {
        "id": "aqJjl58llr_v"
      },
      "outputs": [],
      "source": [
        "import sqlite3 as sq\n",
        "import pandas as pd"
      ]
    },
    {
      "cell_type": "code",
      "execution_count": 29,
      "metadata": {
        "id": "aSRjMsXN6lpV"
      },
      "outputs": [],
      "source": [
        "partidas = pd.read_csv('https://raw.githubusercontent.com/AGoldenDatabase/TrabalhoFinal/main/final/data/processed/partidas.csv')"
      ]
    },
    {
      "cell_type": "code",
      "execution_count": 30,
      "metadata": {
        "id": "vuHLJnMnmXYe"
      },
      "outputs": [],
      "source": [
        "con = sq.connect('GOLDB.db')\n",
        "partidas.to_sql('Partidas', con, if_exists=\"replace\", index=False)"
      ]
    },
    {
      "cell_type": "code",
      "execution_count": 31,
      "metadata": {
        "id": "kkpYu4jlGn6h"
      },
      "outputs": [
        {
          "ename": "OperationalError",
          "evalue": "table R1 already exists",
          "output_type": "error",
          "traceback": [
            "\u001b[0;31m---------------------------------------------------------------------------\u001b[0m",
            "\u001b[0;31mOperationalError\u001b[0m                          Traceback (most recent call last)",
            "\u001b[0;32m<ipython-input-31-0a0b3818532a>\u001b[0m in \u001b[0;36m<module>\u001b[0;34m\u001b[0m\n\u001b[1;32m      1\u001b[0m \u001b[0mcur\u001b[0m \u001b[0;34m=\u001b[0m \u001b[0mcon\u001b[0m\u001b[0;34m.\u001b[0m\u001b[0mcursor\u001b[0m\u001b[0;34m(\u001b[0m\u001b[0;34m)\u001b[0m\u001b[0;34m\u001b[0m\u001b[0;34m\u001b[0m\u001b[0m\n\u001b[1;32m      2\u001b[0m \u001b[0mcmd\u001b[0m \u001b[0;34m=\u001b[0m \u001b[0;34m'''CREATE VIEW R1 AS SELECT * FROM Partidas P where P.AvgA > P.AvgH AND P.Res = 'H';'''\u001b[0m\u001b[0;34m\u001b[0m\u001b[0;34m\u001b[0m\u001b[0m\n\u001b[0;32m----> 3\u001b[0;31m \u001b[0mcur\u001b[0m\u001b[0;34m.\u001b[0m\u001b[0mexecute\u001b[0m\u001b[0;34m(\u001b[0m\u001b[0mcmd\u001b[0m\u001b[0;34m)\u001b[0m\u001b[0;34m\u001b[0m\u001b[0;34m\u001b[0m\u001b[0m\n\u001b[0m",
            "\u001b[0;31mOperationalError\u001b[0m: table R1 already exists"
          ]
        }
      ],
      "source": [
        "cur = con.cursor()\n",
        "cmd = '''CREATE VIEW R1 AS SELECT * FROM Partidas P where P.AvgA > P.AvgH AND P.Res = 'H';'''\n",
        "cur.execute(cmd)"
      ]
    },
    {
      "cell_type": "code",
      "execution_count": null,
      "metadata": {
        "id": "PBc3RFdhLopq"
      },
      "outputs": [
        {
          "ename": "OperationalError",
          "evalue": "table R2 already exists",
          "output_type": "error",
          "traceback": [
            "\u001b[0;31m---------------------------------------------------------------------------\u001b[0m",
            "\u001b[0;31mOperationalError\u001b[0m                          Traceback (most recent call last)",
            "\u001b[0;32m<ipython-input-23-713e1d8a03c0>\u001b[0m in \u001b[0;36m<module>\u001b[0;34m\u001b[0m\n\u001b[1;32m      1\u001b[0m \u001b[0mur\u001b[0m \u001b[0;34m=\u001b[0m \u001b[0mcon\u001b[0m\u001b[0;34m.\u001b[0m\u001b[0mcursor\u001b[0m\u001b[0;34m(\u001b[0m\u001b[0;34m)\u001b[0m\u001b[0;34m\u001b[0m\u001b[0;34m\u001b[0m\u001b[0m\n\u001b[1;32m      2\u001b[0m \u001b[0mcmd\u001b[0m \u001b[0;34m=\u001b[0m \u001b[0;34m'''CREATE VIEW R2 AS SELECT * FROM Partidas P where P.AvgH > P.AvgA AND P.Res = 'A';'''\u001b[0m\u001b[0;34m\u001b[0m\u001b[0;34m\u001b[0m\u001b[0m\n\u001b[0;32m----> 3\u001b[0;31m \u001b[0mcur\u001b[0m\u001b[0;34m.\u001b[0m\u001b[0mexecute\u001b[0m\u001b[0;34m(\u001b[0m\u001b[0mcmd\u001b[0m\u001b[0;34m)\u001b[0m\u001b[0;34m\u001b[0m\u001b[0;34m\u001b[0m\u001b[0m\n\u001b[0m",
            "\u001b[0;31mOperationalError\u001b[0m: table R2 already exists"
          ]
        }
      ],
      "source": [
        "ur = con.cursor()\n",
        "cmd = '''CREATE VIEW R2 AS SELECT * FROM Partidas P where P.AvgH > P.AvgA AND P.Res = 'A';'''\n",
        "cur.execute(cmd)"
      ]
    },
    {
      "cell_type": "code",
      "execution_count": 32,
      "metadata": {
        "colab": {
          "base_uri": "https://localhost:8080/"
        },
        "id": "lg2GIbnoICjU",
        "outputId": "26b67c31-1cba-438c-a431-8a5a1843ac19"
      },
      "outputs": [],
      "source": [
        "cmd = '''SELECT COUNT() FROM R1;'''\n",
        "r1 = cur.execute(cmd).fetchall()"
      ]
    },
    {
      "cell_type": "code",
      "execution_count": 33,
      "metadata": {
        "colab": {
          "base_uri": "https://localhost:8080/"
        },
        "id": "hNTQzHOYJXXQ",
        "outputId": "3b4e7561-4ace-4bbf-91ff-f5eadbc5cca4"
      },
      "outputs": [],
      "source": [
        "cmd = '''SELECT COUNT() FROM R2;'''\n",
        "r2 = cur.execute(cmd).fetchall()"
      ]
    },
    {
      "cell_type": "code",
      "execution_count": 34,
      "metadata": {
        "id": "uYojdOZEQz5w"
      },
      "outputs": [
        {
          "name": "stdout",
          "output_type": "stream",
          "text": [
            "53.1578947368421 % de Acertos\n"
          ]
        }
      ],
      "source": [
        "print(((r1[0][0] + r2[0][0])/380)*100, \"% de Acertos\")\n",
        "\n",
        "con.commit()\n",
        "con.close()"
      ]
    },
    {
      "cell_type": "code",
      "execution_count": null,
      "metadata": {},
      "outputs": [],
      "source": []
    }
  ],
  "metadata": {
    "colab": {
      "name": "analiseAtaqueDefesa.ipynb",
      "provenance": []
    },
    "kernelspec": {
      "display_name": "Python 3",
      "name": "python3"
    },
    "language_info": {
      "codemirror_mode": {
        "name": "ipython",
        "version": 3
      },
      "file_extension": ".py",
      "mimetype": "text/x-python",
      "name": "python",
      "nbconvert_exporter": "python",
      "pygments_lexer": "ipython3",
      "version": "3.9.5"
    }
  },
  "nbformat": 4,
  "nbformat_minor": 0
}
