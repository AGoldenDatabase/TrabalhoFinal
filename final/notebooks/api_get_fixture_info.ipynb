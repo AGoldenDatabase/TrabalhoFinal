{
  "nbformat": 4,
  "nbformat_minor": 0,
  "metadata": {
    "colab": {
      "name": "api-get-fixture-info.ipynb",
      "provenance": [],
      "collapsed_sections": [
        "IKqhhDnDhWKO",
        "ADpkP5BQrUO1",
        "cTBM2dy1u6bA",
        "wg9l7LnwwOJV",
        "YPS05oCzxhZR"
      ]
    },
    "kernelspec": {
      "name": "python3",
      "display_name": "Python 3"
    },
    "language_info": {
      "name": "python"
    }
  },
  "cells": [
    {
      "cell_type": "code",
      "metadata": {
        "colab": {
          "base_uri": "https://localhost:8080/"
        },
        "id": "AH29OQRMX40Z",
        "outputId": "d3f03ac3-9097-4858-dac5-608f349ba0d7"
      },
      "source": [
        "from google.colab import drive\n",
        "drive.mount('/content/drive')"
      ],
      "execution_count": 1,
      "outputs": [
        {
          "output_type": "stream",
          "name": "stdout",
          "text": [
            "Mounted at /content/drive\n"
          ]
        }
      ]
    },
    {
      "cell_type": "code",
      "metadata": {
        "id": "l9ocMtj9g3Ou"
      },
      "source": [
        "# Lê do arquivo de fixtures.json, para cada partida pesquisa e salva os eventos e lineups em \n",
        "# \"fixtures-events.json\" e \"fixtures-lineups.json\". Caso o evento ou lineup de uma partida já \n",
        "# tenha sido adicionado, programa parte para o próximo da lista.\n",
        "# Recebe como argumento número máximo de requisições a serem feitas. Caso ultrapasse este nú-\n",
        "# mero ou caso alguma requisição dê resposta diferente de 200 (OK), o programa encerra-se. \n",
        "\n",
        "import requests\n",
        "import json\n",
        "import os\n",
        "import sys\n",
        "from time import sleep"
      ],
      "execution_count": 2,
      "outputs": []
    },
    {
      "cell_type": "markdown",
      "metadata": {
        "id": "LPgDa06RhRS8"
      },
      "source": [
        "# Api-Key: Alan"
      ]
    },
    {
      "cell_type": "code",
      "metadata": {
        "id": "1sL8snpag786"
      },
      "source": [
        "headers = {\n",
        "  'x-rapidapi-key': REMOVIDO,\n",
        "  'x-rapidapi-host': 'v3.football.api-sports.io'\n",
        "}\n",
        "\n",
        "events_url = \"https://v3.football.api-sports.io/fixtures/events\"\n",
        "lineups_url = \"https://v3.football.api-sports.io/fixtures/lineups\""
      ],
      "execution_count": null,
      "outputs": []
    },
    {
      "cell_type": "markdown",
      "metadata": {
        "id": "pb620yJQWq-P"
      },
      "source": [
        "# API-Key: Gabriel"
      ]
    },
    {
      "cell_type": "code",
      "metadata": {
        "id": "kH-Y3-VsWvFN"
      },
      "source": [
        "headers = {\n",
        "    'x-rapidapi-host': 'api-football-v1.p.rapidapi.com',\n",
        "    'x-rapidapi-key': REMOVIDO\n",
        "    }\n",
        "events_url = \"https://api-football-v1.p.rapidapi.com/v3/fixtures/events\"\n",
        "lineups_url = \"https://api-football-v1.p.rapidapi.com/v3/fixtures/lineups\""
      ],
      "execution_count": null,
      "outputs": []
    },
    {
      "cell_type": "markdown",
      "metadata": {
        "id": "IKqhhDnDhWKO"
      },
      "source": [
        "# Request"
      ]
    },
    {
      "cell_type": "code",
      "metadata": {
        "colab": {
          "base_uri": "https://localhost:8080/"
        },
        "id": "WYHTVPh8gf6O",
        "outputId": "93dcb128-59a0-45da-ec24-5f20ea8e04b3"
      },
      "source": [
        "querystring = {\"league\":\"71\",\"season\":\"2019\"}\n",
        "\n",
        "path_to_fixtures = '/content/drive/MyDrive/MC536 - Grupo GOLDB/JSON/fixtures.json'\n",
        "path_to_fixtures_events = '/content/drive/MyDrive/MC536 - Grupo GOLDB/JSON/fixtures-events.json'\n",
        "path_to_lineups = '/content/drive/MyDrive/MC536 - Grupo GOLDB/JSON/fixtures-lineups.json'\n",
        "\n",
        "MAX_REQUESTS = 0\n",
        "\n",
        "with open(path_to_fixtures, 'r') as f:\n",
        "    data = f.read()\n",
        "    f.close()\n",
        "\n",
        "json_obj = json.loads(data)\n",
        "\n",
        "request_count = 0\n",
        "max_requests = MAX_REQUESTS\n",
        "\n",
        "if max_requests == None:\n",
        "    print(\"Providenciar como argumento número máximo de requisições a serem feitas. \\n Ex.: python3 api-get-fixture-info 50\")\n",
        "    exit(1)\n",
        "\n",
        "events_dict = dict()\n",
        "# caso existam partidas com eventos já salvos\n",
        "if path_to_fixtures_events is not None:\n",
        "    with open(path_to_fixtures_events, 'r') as f:\n",
        "        previous_events_data = f.read()\n",
        "        f.close()\n",
        "\n",
        "    events_dict = json.loads(previous_events_data)\n",
        "\n",
        "lineups_dict = dict()\n",
        "# caso existam partidas com lineups já salvos\n",
        "if path_to_lineups is not None:\n",
        "    with open(path_to_lineups, 'r') as f:\n",
        "        previous_lineups_data = f.read()\n",
        "        f.close()\n",
        "\n",
        "    prev_lineups_obj = json.loads(previous_lineups_data)\n",
        "    lineups_dict = prev_lineups_obj\n",
        "\n",
        "# para cada partida\n",
        "for partida in json_obj['response']:\n",
        "\n",
        "    mandante = partida['teams']['home']\n",
        "    visitante = partida['teams']['away']\n",
        "    id_partida = partida['fixture']['id']\n",
        "\n",
        "    querystring = {\"fixture\":id_partida}\n",
        "\n",
        "    if str(id_partida) not in events_dict.keys():\n",
        "        # requisitar e salvar eventos da partida\n",
        "        events_response = requests.request(\"GET\", events_url, headers=headers, params=querystring)\n",
        "        print(\"Request {} returned {}\".format(querystring, events_response.status_code))\n",
        "        print(events_response.text)\n",
        "        request_count += 1\n",
        "\n",
        "        if events_response.status_code != 200:\n",
        "            break\n",
        "\n",
        "        with open(path_to_fixtures_events, 'w') as f:\n",
        "            new_events_data = events_response.json()\n",
        "            events_dict[str(id_partida)] = new_events_data['response']\n",
        "            json.dump(events_dict, f)\n",
        "            f.close()\n",
        "        sleep(7)\n",
        "\n",
        "    if request_count >= max_requests:\n",
        "        break\n",
        "\n",
        "\n",
        "    if str(id_partida) not in lineups_dict.keys():\n",
        "    \n",
        "        # requisitar e salvar lineup da partida\n",
        "        lineups_response = requests.request(\"GET\", lineups_url, headers=headers, params=querystring)\n",
        "        print(\"Request {} returned {}\".format(querystring, lineups_response.status_code))\n",
        "        print(lineups_response.text)\n",
        "        request_count += 1\n",
        "\n",
        "        if lineups_response.status_code != 200:\n",
        "            break\n",
        "\n",
        "        with open(path_to_lineups, 'w') as f:\n",
        "            new_lineups_data = lineups_response.json()\n",
        "            lineups_dict[str(id_partida)] = new_lineups_data['response']\n",
        "            json.dump(lineups_dict, f)\n",
        "            f.close()\n",
        "        sleep(7)\n",
        "    \n",
        "    if request_count >= max_requests:\n",
        "        break\n",
        "    \n",
        "print(request_count)"
      ],
      "execution_count": null,
      "outputs": [
        {
          "output_type": "stream",
          "name": "stdout",
          "text": [
            "Request {'fixture': 94847} returned 200\n",
            "{\"get\":\"fixtures\\/events\",\"parameters\":{\"fixture\":\"94847\"},\"errors\":[],\"results\":13,\"paging\":{\"current\":1,\"total\":1},\"response\":[{\"time\":{\"elapsed\":4,\"extra\":null},\"team\":{\"id\":151,\"name\":\"Goias\",\"logo\":\"https:\\/\\/media.api-sports.io\\/football\\/teams\\/151.png\"},\"player\":{\"id\":80277,\"name\":\"Rafael Moura\"},\"assist\":{\"id\":10340,\"name\":\"Marcelo Hermes\"},\"type\":\"Goal\",\"detail\":\"Normal Goal\",\"comments\":null},{\"time\":{\"elapsed\":17,\"extra\":null},\"team\":{\"id\":130,\"name\":\"Gremio\",\"logo\":\"https:\\/\\/media.api-sports.io\\/football\\/teams\\/130.png\"},\"player\":{\"id\":10499,\"name\":\"Darlan\"},\"assist\":{\"id\":null,\"name\":null},\"type\":\"Card\",\"detail\":\"Yellow Card\",\"comments\":null},{\"time\":{\"elapsed\":23,\"extra\":null},\"team\":{\"id\":130,\"name\":\"Gremio\",\"logo\":\"https:\\/\\/media.api-sports.io\\/football\\/teams\\/130.png\"},\"player\":{\"id\":69198,\"name\":\"Patrick\"},\"assist\":{\"id\":null,\"name\":null},\"type\":\"Goal\",\"detail\":\"Normal Goal\",\"comments\":null},{\"time\":{\"elapsed\":30,\"extra\":null},\"team\":{\"id\":151,\"name\":\"Goias\",\"logo\":\"https:\\/\\/media.api-sports.io\\/football\\/teams\\/151.png\"},\"player\":{\"id\":10359,\"name\":\"Leandro Barcia\"},\"assist\":{\"id\":null,\"name\":null},\"type\":\"Card\",\"detail\":\"Yellow Card\",\"comments\":null},{\"time\":{\"elapsed\":37,\"extra\":null},\"team\":{\"id\":130,\"name\":\"Gremio\",\"logo\":\"https:\\/\\/media.api-sports.io\\/football\\/teams\\/130.png\"},\"player\":{\"id\":80536,\"name\":\"Isaque\"},\"assist\":{\"id\":106510,\"name\":\"Ferreira\"},\"type\":\"Goal\",\"detail\":\"Normal Goal\",\"comments\":null},{\"time\":{\"elapsed\":45,\"extra\":null},\"team\":{\"id\":151,\"name\":\"Goias\",\"logo\":\"https:\\/\\/media.api-sports.io\\/football\\/teams\\/151.png\"},\"player\":{\"id\":80277,\"name\":\"Rafael Moura\"},\"assist\":{\"id\":10340,\"name\":\"Marcelo Hermes\"},\"type\":\"Goal\",\"detail\":\"Normal Goal\",\"comments\":null},{\"time\":{\"elapsed\":60,\"extra\":null},\"team\":{\"id\":151,\"name\":\"Goias\",\"logo\":\"https:\\/\\/media.api-sports.io\\/football\\/teams\\/151.png\"},\"player\":{\"id\":10353,\"name\":\"Gilberto Santos\"},\"assist\":{\"id\":80253,\"name\":\"Dudu\"},\"type\":\"subst\",\"detail\":\"Substitution 1\",\"comments\":null},{\"time\":{\"elapsed\":65,\"extra\":null},\"team\":{\"id\":151,\"name\":\"Goias\",\"logo\":\"https:\\/\\/media.api-sports.io\\/football\\/teams\\/151.png\"},\"player\":{\"id\":10348,\"name\":\"Yago Felipe\"},\"assist\":{\"id\":80277,\"name\":\"Rafael Moura\"},\"type\":\"Goal\",\"detail\":\"Normal Goal\",\"comments\":null},{\"time\":{\"elapsed\":66,\"extra\":null},\"team\":{\"id\":130,\"name\":\"Gremio\",\"logo\":\"https:\\/\\/media.api-sports.io\\/football\\/teams\\/130.png\"},\"player\":{\"id\":69198,\"name\":\"Patrick\"},\"assist\":{\"id\":133187,\"name\":\"Gui Azevedo\"},\"type\":\"subst\",\"detail\":\"Substitution 1\",\"comments\":null},{\"time\":{\"elapsed\":71,\"extra\":null},\"team\":{\"id\":130,\"name\":\"Gremio\",\"logo\":\"https:\\/\\/media.api-sports.io\\/football\\/teams\\/130.png\"},\"player\":{\"id\":10488,\"name\":\"Rodrigues\"},\"assist\":{\"id\":180864,\"name\":\"Emanuel\"},\"type\":\"subst\",\"detail\":\"Substitution 2\",\"comments\":null},{\"time\":{\"elapsed\":81,\"extra\":null},\"team\":{\"id\":151,\"name\":\"Goias\",\"logo\":\"https:\\/\\/media.api-sports.io\\/football\\/teams\\/151.png\"},\"player\":{\"id\":80277,\"name\":\"Rafael Moura\"},\"assist\":{\"id\":10367,\"name\":\"Vinicius\"},\"type\":\"subst\",\"detail\":\"Substitution 2\",\"comments\":null},{\"time\":{\"elapsed\":83,\"extra\":null},\"team\":{\"id\":130,\"name\":\"Gremio\",\"logo\":\"https:\\/\\/media.api-sports.io\\/football\\/teams\\/130.png\"},\"player\":{\"id\":167010,\"name\":\"Frizzo\"},\"assist\":{\"id\":152858,\"name\":\"Jhonata Robert\"},\"type\":\"subst\",\"detail\":\"Substitution 3\",\"comments\":null},{\"time\":{\"elapsed\":84,\"extra\":null},\"team\":{\"id\":151,\"name\":\"Goias\",\"logo\":\"https:\\/\\/media.api-sports.io\\/football\\/teams\\/151.png\"},\"player\":{\"id\":10350,\"name\":\"Yago\"},\"assist\":{\"id\":133627,\"name\":\"Breno\"},\"type\":\"subst\",\"detail\":\"Substitution 3\",\"comments\":null}]}\n",
            "Request {'fixture': 94847} returned 200\n",
            "{\"get\":\"fixtures\\/lineups\",\"parameters\":{\"fixture\":\"94847\"},\"errors\":[],\"results\":2,\"paging\":{\"current\":1,\"total\":1},\"response\":[{\"team\":{\"id\":151,\"name\":\"Goias\",\"logo\":\"https:\\/\\/media.api-sports.io\\/football\\/teams\\/151.png\",\"colors\":null},\"coach\":{\"id\":2084,\"name\":\"Ney Franco\",\"photo\":\"https:\\/\\/media.api-sports.io\\/football\\/coachs\\/2084.png\"},\"formation\":\"4-3-3\",\"startXI\":[{\"player\":{\"id\":10335,\"name\":\"Tadeu\",\"number\":23,\"pos\":\"G\",\"grid\":\"1:1\"}},{\"player\":{\"id\":10343,\"name\":\"F\\u00e1bio Sanches\",\"number\":27,\"pos\":\"D\",\"grid\":\"2:4\"}},{\"player\":{\"id\":10344,\"name\":\"Rafael Vaz\",\"number\":4,\"pos\":\"D\",\"grid\":\"2:3\"}},{\"player\":{\"id\":10340,\"name\":\"Marcelo Hermes\",\"number\":86,\"pos\":\"D\",\"grid\":\"2:2\"}},{\"player\":{\"id\":10353,\"name\":\"Gilberto Santos\",\"number\":29,\"pos\":\"M\",\"grid\":\"2:1\"}},{\"player\":{\"id\":10348,\"name\":\"Yago Felipe\",\"number\":6,\"pos\":\"M\",\"grid\":\"3:3\"}},{\"player\":{\"id\":10350,\"name\":\"Yago\",\"number\":32,\"pos\":null,\"grid\":\"3:2\"}},{\"player\":{\"id\":10352,\"name\":\"L\\u00e9o Sena\",\"number\":20,\"pos\":\"M\",\"grid\":\"3:1\"}},{\"player\":{\"id\":80277,\"name\":\"Rafael Moura\",\"number\":9,\"pos\":\"F\",\"grid\":\"4:3\"}},{\"player\":{\"id\":10359,\"name\":\"L. Barcia\",\"number\":30,\"pos\":\"F\",\"grid\":\"4:2\"}},{\"player\":{\"id\":10364,\"name\":\"Michael\",\"number\":11,\"pos\":\"F\",\"grid\":\"4:1\"}}],\"substitutes\":[{\"player\":{\"id\":80253,\"name\":\"Dudu\",\"number\":77,\"pos\":\"M\",\"grid\":null}},{\"player\":{\"id\":10367,\"name\":\"Vinicius\",\"number\":70,\"pos\":\"F\",\"grid\":null}},{\"player\":{\"id\":133627,\"name\":\"Breno\",\"number\":35,\"pos\":\"D\",\"grid\":null}},{\"player\":{\"id\":10346,\"name\":\"Marlone\",\"number\":10,\"pos\":\"M\",\"grid\":null}},{\"player\":{\"id\":10349,\"name\":\"Jefferson\",\"number\":13,\"pos\":\"D\",\"grid\":null}},{\"player\":{\"id\":80653,\"name\":\"Kaio Nunes\",\"number\":96,\"pos\":\"M\",\"grid\":null}},{\"player\":{\"id\":77812,\"name\":\"Marcelo Rangel\",\"number\":88,\"pos\":\"G\",\"grid\":null}},{\"player\":{\"id\":10355,\"name\":\"Thalles\",\"number\":98,\"pos\":\"M\",\"grid\":null}},{\"player\":{\"id\":80380,\"name\":\"Luc\\u00e3o\",\"number\":33,\"pos\":\"D\",\"grid\":null}},{\"player\":{\"id\":64046,\"name\":\"Rafinha\",\"number\":17,\"pos\":\"M\",\"grid\":null}},{\"player\":{\"id\":10336,\"name\":\"Geovane\",\"number\":5,\"pos\":\"M\",\"grid\":null}},{\"player\":{\"id\":10196,\"name\":\"Alan Ruschel\",\"number\":28,\"pos\":\"M\",\"grid\":null}}]},{\"team\":{\"id\":130,\"name\":\"Gremio\",\"logo\":\"https:\\/\\/media.api-sports.io\\/football\\/teams\\/130.png\",\"colors\":null},\"coach\":{\"id\":141,\"name\":\"Renato Ga\\u00facho\",\"photo\":\"https:\\/\\/media.api-sports.io\\/football\\/coachs\\/141.png\"},\"formation\":\"4-2-3-1\",\"startXI\":[{\"player\":{\"id\":10478,\"name\":\"Phelipe Megiolaro\",\"number\":40,\"pos\":\"G\",\"grid\":\"1:1\"}},{\"player\":{\"id\":10481,\"name\":\"Juninho Capixaba\",\"number\":29,\"pos\":\"D\",\"grid\":\"2:4\"}},{\"player\":{\"id\":10488,\"name\":\"Rodrigues\",\"number\":38,\"pos\":\"D\",\"grid\":\"2:3\"}},{\"player\":{\"id\":157147,\"name\":\"Felipe\",\"number\":35,\"pos\":null,\"grid\":\"2:2\"}},{\"player\":{\"id\":152857,\"name\":\"Ruan\",\"number\":44,\"pos\":\"D\",\"grid\":\"2:1\"}},{\"player\":{\"id\":167010,\"name\":\"Frizzo\",\"number\":45,\"pos\":\"M\",\"grid\":\"3:2\"}},{\"player\":{\"id\":69198,\"name\":\"Patrick\",\"number\":30,\"pos\":\"M\",\"grid\":\"3:1\"}},{\"player\":{\"id\":10499,\"name\":\"Darlan Mendes\",\"number\":37,\"pos\":\"M\",\"grid\":\"4:3\"}},{\"player\":{\"id\":10500,\"name\":\"Pep\\u00ea\",\"number\":25,\"pos\":null,\"grid\":\"4:2\"}},{\"player\":{\"id\":80536,\"name\":\"Isaque\",\"number\":46,\"pos\":\"F\",\"grid\":\"4:1\"}},{\"player\":{\"id\":106510,\"name\":\"Ferreira\",\"number\":47,\"pos\":\"M\",\"grid\":\"5:1\"}}],\"substitutes\":[{\"player\":{\"id\":133187,\"name\":\"Gui Azevedo\",\"number\":39,\"pos\":\"F\",\"grid\":null}},{\"player\":{\"id\":180864,\"name\":\"Emanuel\",\"number\":54,\"pos\":null,\"grid\":null}},{\"player\":{\"id\":152858,\"name\":\"Jhonata Robert\",\"number\":49,\"pos\":\"F\",\"grid\":null}},{\"player\":{\"id\":10479,\"name\":\"Brenno\",\"number\":24,\"pos\":\"G\",\"grid\":null}},{\"player\":{\"id\":80407,\"name\":\"Jhonata\",\"number\":48,\"pos\":\"D\",\"grid\":null}},{\"player\":{\"id\":180869,\"name\":\"Vinicius Machado\",\"number\":50,\"pos\":\"G\",\"grid\":null}},{\"player\":{\"id\":180926,\"name\":\"Leonardo Ch\\u00fa\",\"number\":53,\"pos\":null,\"grid\":null}},{\"player\":{\"id\":180863,\"name\":\"Lucas Araujo\",\"number\":52,\"pos\":\"M\",\"grid\":null}}]}]}\n",
            "Request {'fixture': 94848} returned 200\n",
            "{\"get\":\"fixtures\\/events\",\"parameters\":{\"fixture\":\"94848\"},\"errors\":[],\"results\":14,\"paging\":{\"current\":1,\"total\":1},\"response\":[{\"time\":{\"elapsed\":6,\"extra\":null},\"team\":{\"id\":1062,\"name\":\"Atletico-MG\",\"logo\":\"https:\\/\\/media.api-sports.io\\/football\\/teams\\/1062.png\"},\"player\":{\"id\":44494,\"name\":\"R. Otero\"},\"assist\":{\"id\":47552,\"name\":\"F. Di Santo\"},\"type\":\"Goal\",\"detail\":\"Normal Goal\",\"comments\":null},{\"time\":{\"elapsed\":45,\"extra\":null},\"team\":{\"id\":1062,\"name\":\"Atletico-MG\",\"logo\":\"https:\\/\\/media.api-sports.io\\/football\\/teams\\/1062.png\"},\"player\":{\"id\":44494,\"name\":\"R\\u00f3mulo Otero\"},\"assist\":{\"id\":null,\"name\":null},\"type\":\"Card\",\"detail\":\"Yellow Card\",\"comments\":null},{\"time\":{\"elapsed\":46,\"extra\":null},\"team\":{\"id\":1062,\"name\":\"Atletico-MG\",\"logo\":\"https:\\/\\/media.api-sports.io\\/football\\/teams\\/1062.png\"},\"player\":{\"id\":44494,\"name\":\"R. Otero\"},\"assist\":{\"id\":9891,\"name\":\"D. Terans\"},\"type\":\"subst\",\"detail\":\"Substitution 1\",\"comments\":null},{\"time\":{\"elapsed\":47,\"extra\":null},\"team\":{\"id\":119,\"name\":\"Internacional\",\"logo\":\"https:\\/\\/media.api-sports.io\\/football\\/teams\\/119.png\"},\"player\":{\"id\":10401,\"name\":\"Paolo Guerrero\"},\"assist\":{\"id\":null,\"name\":null},\"type\":\"Card\",\"detail\":\"Yellow Card\",\"comments\":null},{\"time\":{\"elapsed\":57,\"extra\":null},\"team\":{\"id\":119,\"name\":\"Internacional\",\"logo\":\"https:\\/\\/media.api-sports.io\\/football\\/teams\\/119.png\"},\"player\":{\"id\":10403,\"name\":\"Ne\\u00edlton\"},\"assist\":{\"id\":null,\"name\":null},\"type\":\"Card\",\"detail\":\"Yellow Card\",\"comments\":null},{\"time\":{\"elapsed\":64,\"extra\":null},\"team\":{\"id\":119,\"name\":\"Internacional\",\"logo\":\"https:\\/\\/media.api-sports.io\\/football\\/teams\\/119.png\"},\"player\":{\"id\":10397,\"name\":\"M. Sarrafiore\"},\"assist\":{\"id\":10406,\"name\":\"Rafael S\\u00f3bis\"},\"type\":\"subst\",\"detail\":\"Substitution 1\",\"comments\":null},{\"time\":{\"elapsed\":69,\"extra\":null},\"team\":{\"id\":119,\"name\":\"Internacional\",\"logo\":\"https:\\/\\/media.api-sports.io\\/football\\/teams\\/119.png\"},\"player\":{\"id\":1065,\"name\":\"Natanael\"},\"assist\":{\"id\":null,\"name\":null},\"type\":\"Card\",\"detail\":\"Yellow Card\",\"comments\":null},{\"time\":{\"elapsed\":71,\"extra\":null},\"team\":{\"id\":119,\"name\":\"Internacional\",\"logo\":\"https:\\/\\/media.api-sports.io\\/football\\/teams\\/119.png\"},\"player\":{\"id\":10384,\"name\":\"Heitor\"},\"assist\":{\"id\":10396,\"name\":\"Nonato\"},\"type\":\"subst\",\"detail\":\"Substitution 2\",\"comments\":null},{\"time\":{\"elapsed\":81,\"extra\":null},\"team\":{\"id\":119,\"name\":\"Internacional\",\"logo\":\"https:\\/\\/media.api-sports.io\\/football\\/teams\\/119.png\"},\"player\":{\"id\":10403,\"name\":\"Neilton\"},\"assist\":{\"id\":10398,\"name\":\"Wellington Silva\"},\"type\":\"subst\",\"detail\":\"Substitution 3\",\"comments\":null},{\"time\":{\"elapsed\":82,\"extra\":null},\"team\":{\"id\":119,\"name\":\"Internacional\",\"logo\":\"https:\\/\\/media.api-sports.io\\/football\\/teams\\/119.png\"},\"player\":{\"id\":10401,\"name\":\"P. Guerrero\"},\"assist\":{\"id\":null,\"name\":null},\"type\":\"Goal\",\"detail\":\"Normal Goal\",\"comments\":null},{\"time\":{\"elapsed\":87,\"extra\":null},\"team\":{\"id\":1062,\"name\":\"Atletico-MG\",\"logo\":\"https:\\/\\/media.api-sports.io\\/football\\/teams\\/1062.png\"},\"player\":{\"id\":51597,\"name\":\"L. Hern\\u00e1ndez\"},\"assist\":{\"id\":9870,\"name\":\"Hulk\"},\"type\":\"subst\",\"detail\":\"Substitution 2\",\"comments\":null},{\"time\":{\"elapsed\":87,\"extra\":null},\"team\":{\"id\":1062,\"name\":\"Atletico-MG\",\"logo\":\"https:\\/\\/media.api-sports.io\\/football\\/teams\\/1062.png\"},\"player\":{\"id\":70593,\"name\":\"R. Mart\\u00ednez\"},\"assist\":{\"id\":9889,\"name\":\"Bruninho\"},\"type\":\"subst\",\"detail\":\"Substitution 3\",\"comments\":null},{\"time\":{\"elapsed\":90,\"extra\":null},\"team\":{\"id\":119,\"name\":\"Internacional\",\"logo\":\"https:\\/\\/media.api-sports.io\\/football\\/teams\\/119.png\"},\"player\":{\"id\":10391,\"name\":\"Andres D'Alessandro\"},\"assist\":{\"id\":null,\"name\":null},\"type\":\"Card\",\"detail\":\"Yellow Card\",\"comments\":null},{\"time\":{\"elapsed\":90,\"extra\":8},\"team\":{\"id\":119,\"name\":\"Internacional\",\"logo\":\"https:\\/\\/media.api-sports.io\\/football\\/teams\\/119.png\"},\"player\":{\"id\":10377,\"name\":\"V. Cuesta\"},\"assist\":{\"id\":10391,\"name\":\"A. D'Alessandro\"},\"type\":\"Goal\",\"detail\":\"Normal Goal\",\"comments\":null}]}\n",
            "Request {'fixture': 94848} returned 200\n",
            "{\"get\":\"fixtures\\/lineups\",\"parameters\":{\"fixture\":\"94848\"},\"errors\":[],\"results\":2,\"paging\":{\"current\":1,\"total\":1},\"response\":[{\"team\":{\"id\":119,\"name\":\"Internacional\",\"logo\":\"https:\\/\\/media.api-sports.io\\/football\\/teams\\/119.png\",\"colors\":null},\"coach\":{\"id\":2419,\"name\":\"Z\\u00e9 Ricardo\",\"photo\":\"https:\\/\\/media.api-sports.io\\/football\\/coachs\\/2419.png\"},\"formation\":\"4-2-3-1\",\"startXI\":[{\"player\":{\"id\":10372,\"name\":\"Marcelo Lomba\",\"number\":12,\"pos\":\"G\",\"grid\":\"1:1\"}},{\"player\":{\"id\":10377,\"name\":\"V. Cuesta\",\"number\":15,\"pos\":\"D\",\"grid\":\"2:4\"}},{\"player\":{\"id\":10379,\"name\":\"Bruno Fuchs\",\"number\":45,\"pos\":\"D\",\"grid\":\"2:3\"}},{\"player\":{\"id\":10384,\"name\":\"Heitor\",\"number\":31,\"pos\":\"D\",\"grid\":\"2:2\"}},{\"player\":{\"id\":10391,\"name\":\"A. D'Alessandro\",\"number\":10,\"pos\":\"M\",\"grid\":\"2:1\"}},{\"player\":{\"id\":10387,\"name\":\"Eden\\u00edlson\",\"number\":8,\"pos\":\"M\",\"grid\":\"3:2\"}},{\"player\":{\"id\":10395,\"name\":\"Rodrigo Lindoso\",\"number\":19,\"pos\":\"M\",\"grid\":\"3:1\"}},{\"player\":{\"id\":1065,\"name\":\"Natanael Pimienta\",\"number\":28,\"pos\":\"D\",\"grid\":\"4:3\"}},{\"player\":{\"id\":10403,\"name\":\"Neilton\",\"number\":17,\"pos\":\"M\",\"grid\":\"4:2\"}},{\"player\":{\"id\":10397,\"name\":\"M. Sarrafiore\",\"number\":29,\"pos\":\"M\",\"grid\":\"4:1\"}},{\"player\":{\"id\":10401,\"name\":\"P. Guerrero\",\"number\":9,\"pos\":\"F\",\"grid\":\"5:1\"}}],\"substitutes\":[{\"player\":{\"id\":10406,\"name\":\"Rafael S\\u00f3bis\",\"number\":23,\"pos\":\"F\",\"grid\":null}},{\"player\":{\"id\":10396,\"name\":\"Nonato\",\"number\":33,\"pos\":\"M\",\"grid\":null}},{\"player\":{\"id\":10398,\"name\":\"Wellington Silva\",\"number\":11,\"pos\":\"M\",\"grid\":null}},{\"player\":{\"id\":10374,\"name\":\"Danilo Fernandes\",\"number\":1,\"pos\":\"G\",\"grid\":null}},{\"player\":{\"id\":10385,\"name\":\"Emerson Santos\",\"number\":20,\"pos\":\"D\",\"grid\":null}},{\"player\":{\"id\":10380,\"name\":\"Klaus\",\"number\":44,\"pos\":\"D\",\"grid\":null}},{\"player\":{\"id\":125676,\"name\":\"Erik\",\"number\":34,\"pos\":\"D\",\"grid\":null}},{\"player\":{\"id\":125677,\"name\":\"Jos\\u00e9 Gabriel\",\"number\":35,\"pos\":null,\"grid\":null}},{\"player\":{\"id\":10317,\"name\":\"Bruno Silva\",\"number\":21,\"pos\":\"M\",\"grid\":null}},{\"player\":{\"id\":10386,\"name\":\"Bruno\",\"number\":2,\"pos\":\"D\",\"grid\":null}},{\"player\":{\"id\":10378,\"name\":\"Rodrigo Moledo\",\"number\":4,\"pos\":\"D\",\"grid\":null}},{\"player\":{\"id\":10404,\"name\":\"Guilherme Parede\",\"number\":77,\"pos\":\"M\",\"grid\":null}}]},{\"team\":{\"id\":1062,\"name\":\"Atletico-MG\",\"logo\":\"https:\\/\\/media.api-sports.io\\/football\\/teams\\/1062.png\",\"colors\":null},\"coach\":{\"id\":2423,\"name\":\"V\\u00e1gner Mancini\",\"photo\":\"https:\\/\\/media.api-sports.io\\/football\\/coachs\\/2423.png\"},\"formation\":\"4-2-3-1\",\"startXI\":[{\"player\":{\"id\":9859,\"name\":\"Victor\",\"number\":1,\"pos\":\"G\",\"grid\":\"1:1\"}},{\"player\":{\"id\":9866,\"name\":\"Leonardo Silva\",\"number\":3,\"pos\":\"D\",\"grid\":\"2:4\"}},{\"player\":{\"id\":51597,\"name\":\"L. Hern\\u00e1ndez\",\"number\":28,\"pos\":\"D\",\"grid\":\"2:3\"}},{\"player\":{\"id\":9868,\"name\":\"Iago Maidana\",\"number\":19,\"pos\":\"D\",\"grid\":\"2:2\"}},{\"player\":{\"id\":9874,\"name\":\"Guga\",\"number\":98,\"pos\":\"D\",\"grid\":\"2:1\"}},{\"player\":{\"id\":9886,\"name\":\"Vin\\u00edcius Goes\",\"number\":29,\"pos\":\"M\",\"grid\":\"3:2\"}},{\"player\":{\"id\":44494,\"name\":\"R. Otero\",\"number\":80,\"pos\":\"M\",\"grid\":\"3:1\"}},{\"player\":{\"id\":9882,\"name\":\"Jos\\u00e9 Welison\",\"number\":14,\"pos\":\"M\",\"grid\":\"4:3\"}},{\"player\":{\"id\":70593,\"name\":\"R. Mart\\u00ednez\",\"number\":5,\"pos\":\"M\",\"grid\":\"4:2\"}},{\"player\":{\"id\":47552,\"name\":\"F. Di Santo\",\"number\":26,\"pos\":\"F\",\"grid\":\"4:1\"}},{\"player\":{\"id\":9900,\"name\":\"Maicon\",\"number\":11,\"pos\":\"M\",\"grid\":\"5:1\"}}],\"substitutes\":[{\"player\":{\"id\":9891,\"name\":\"D. Terans\",\"number\":20,\"pos\":\"M\",\"grid\":null}},{\"player\":{\"id\":9870,\"name\":\"Hulk\",\"number\":22,\"pos\":\"D\",\"grid\":null}},{\"player\":{\"id\":9889,\"name\":\"Bruninho\",\"number\":43,\"pos\":\"M\",\"grid\":null}},{\"player\":{\"id\":143366,\"name\":\"Talison\",\"number\":45,\"pos\":\"D\",\"grid\":null}},{\"player\":{\"id\":9861,\"name\":\"Fernando\",\"number\":33,\"pos\":\"G\",\"grid\":null}},{\"player\":{\"id\":160255,\"name\":\"Guilherme Castilho\",\"number\":42,\"pos\":\"M\",\"grid\":null}},{\"player\":{\"id\":133182,\"name\":\"Vitor Mendes\",\"number\":34,\"pos\":\"D\",\"grid\":null}},{\"player\":{\"id\":9872,\"name\":\"Igor Rabello\",\"number\":16,\"pos\":\"D\",\"grid\":null}},{\"player\":{\"id\":9862,\"name\":\"Cleiton\",\"number\":40,\"pos\":\"G\",\"grid\":null}},{\"player\":{\"id\":180868,\"name\":\"Leo Griggio\",\"number\":51,\"pos\":\"D\",\"grid\":null}},{\"player\":{\"id\":44765,\"name\":\"Bruno Michel\",\"number\":53,\"pos\":\"M\",\"grid\":null}}]}]}\n",
            "Request {'fixture': 94849} returned 200\n",
            "{\"get\":\"fixtures\\/events\",\"parameters\":{\"fixture\":\"94849\"},\"errors\":[],\"results\":15,\"paging\":{\"current\":1,\"total\":1},\"response\":[{\"time\":{\"elapsed\":15,\"extra\":null},\"team\":{\"id\":128,\"name\":\"Santos\",\"logo\":\"https:\\/\\/media.api-sports.io\\/football\\/teams\\/128.png\"},\"player\":{\"id\":10506,\"name\":\"Marinho\"},\"assist\":{\"id\":2454,\"name\":\"Y. Soteldo\"},\"type\":\"Goal\",\"detail\":\"Normal Goal\",\"comments\":null},{\"time\":{\"elapsed\":16,\"extra\":null},\"team\":{\"id\":128,\"name\":\"Santos\",\"logo\":\"https:\\/\\/media.api-sports.io\\/football\\/teams\\/128.png\"},\"player\":{\"id\":10506,\"name\":\"Marinho\"},\"assist\":{\"id\":null,\"name\":null},\"type\":\"Card\",\"detail\":\"Yellow Card\",\"comments\":null},{\"time\":{\"elapsed\":20,\"extra\":null},\"team\":{\"id\":127,\"name\":\"Flamengo\",\"logo\":\"https:\\/\\/media.api-sports.io\\/football\\/teams\\/127.png\"},\"player\":{\"id\":34,\"name\":\"Filipe Lu\\u00eds\"},\"assist\":{\"id\":null,\"name\":null},\"type\":\"Card\",\"detail\":\"Yellow Card\",\"comments\":null},{\"time\":{\"elapsed\":23,\"extra\":null},\"team\":{\"id\":128,\"name\":\"Santos\",\"logo\":\"https:\\/\\/media.api-sports.io\\/football\\/teams\\/128.png\"},\"player\":{\"id\":10000,\"name\":\"C. S\\u00e1nchez\"},\"assist\":{\"id\":null,\"name\":null},\"type\":\"Goal\",\"detail\":\"Normal Goal\",\"comments\":null},{\"time\":{\"elapsed\":42,\"extra\":null},\"team\":{\"id\":127,\"name\":\"Flamengo\",\"logo\":\"https:\\/\\/media.api-sports.io\\/football\\/teams\\/127.png\"},\"player\":{\"id\":10174,\"name\":\"Gabriel Barbosa\"},\"assist\":{\"id\":null,\"name\":null},\"type\":\"Card\",\"detail\":\"Yellow Card\",\"comments\":null},{\"time\":{\"elapsed\":46,\"extra\":null},\"team\":{\"id\":127,\"name\":\"Flamengo\",\"logo\":\"https:\\/\\/media.api-sports.io\\/football\\/teams\\/127.png\"},\"player\":{\"id\":10180,\"name\":\"Bruno Henrique\"},\"assist\":{\"id\":10177,\"name\":\"Vitinho\"},\"type\":\"subst\",\"detail\":\"Substitution 1\",\"comments\":null},{\"time\":{\"elapsed\":63,\"extra\":null},\"team\":{\"id\":128,\"name\":\"Santos\",\"logo\":\"https:\\/\\/media.api-sports.io\\/football\\/teams\\/128.png\"},\"player\":{\"id\":10004,\"name\":\"Eduardo Sasha\"},\"assist\":{\"id\":2454,\"name\":\"Y. Soteldo\"},\"type\":\"Goal\",\"detail\":\"Normal Goal\",\"comments\":null},{\"time\":{\"elapsed\":71,\"extra\":null},\"team\":{\"id\":127,\"name\":\"Flamengo\",\"logo\":\"https:\\/\\/media.api-sports.io\\/football\\/teams\\/127.png\"},\"player\":{\"id\":2612,\"name\":\"G. De Arrascaeta\"},\"assist\":{\"id\":10171,\"name\":\"Diego\"},\"type\":\"subst\",\"detail\":\"Substitution 2\",\"comments\":null},{\"time\":{\"elapsed\":75,\"extra\":null},\"team\":{\"id\":128,\"name\":\"Santos\",\"logo\":\"https:\\/\\/media.api-sports.io\\/football\\/teams\\/128.png\"},\"player\":{\"id\":9995,\"name\":\"Alison\"},\"assist\":{\"id\":10002,\"name\":\"Jobson\"},\"type\":\"subst\",\"detail\":\"Substitution 1\",\"comments\":null},{\"time\":{\"elapsed\":85,\"extra\":null},\"team\":{\"id\":128,\"name\":\"Santos\",\"logo\":\"https:\\/\\/media.api-sports.io\\/football\\/teams\\/128.png\"},\"player\":{\"id\":10000,\"name\":\"C. S\\u00e1nchez\"},\"assist\":{\"id\":9988,\"name\":\"Victor Ferraz\"},\"type\":\"Goal\",\"detail\":\"Normal Goal\",\"comments\":null},{\"time\":{\"elapsed\":86,\"extra\":null},\"team\":{\"id\":128,\"name\":\"Santos\",\"logo\":\"https:\\/\\/media.api-sports.io\\/football\\/teams\\/128.png\"},\"player\":{\"id\":10000,\"name\":\"Carlos S\\u00e1nchez\"},\"assist\":{\"id\":null,\"name\":null},\"type\":\"Card\",\"detail\":\"Yellow Card\",\"comments\":null},{\"time\":{\"elapsed\":89,\"extra\":null},\"team\":{\"id\":128,\"name\":\"Santos\",\"logo\":\"https:\\/\\/media.api-sports.io\\/football\\/teams\\/128.png\"},\"player\":{\"id\":10004,\"name\":\"Eduardo Sasha\"},\"assist\":{\"id\":9997,\"name\":\"Jean Mota\"},\"type\":\"subst\",\"detail\":\"Substitution 2\",\"comments\":null},{\"time\":{\"elapsed\":90,\"extra\":null},\"team\":{\"id\":127,\"name\":\"Flamengo\",\"logo\":\"https:\\/\\/media.api-sports.io\\/football\\/teams\\/127.png\"},\"player\":{\"id\":10157,\"name\":\"Rodinei\"},\"assist\":{\"id\":null,\"name\":null},\"type\":\"Card\",\"detail\":\"Yellow Card\",\"comments\":null},{\"time\":{\"elapsed\":90,\"extra\":3},\"team\":{\"id\":128,\"name\":\"Santos\",\"logo\":\"https:\\/\\/media.api-sports.io\\/football\\/teams\\/128.png\"},\"player\":{\"id\":10000,\"name\":\"C. S\\u00e1nchez\"},\"assist\":{\"id\":10001,\"name\":\"Sandry\"},\"type\":\"subst\",\"detail\":\"Substitution 3\",\"comments\":null},{\"time\":{\"elapsed\":90,\"extra\":1},\"team\":{\"id\":127,\"name\":\"Flamengo\",\"logo\":\"https:\\/\\/media.api-sports.io\\/football\\/teams\\/127.png\"},\"player\":{\"id\":10157,\"name\":\"Rodinei\"},\"assist\":{\"id\":70368,\"name\":\"Jo\\u00e3o Lucas\"},\"type\":\"subst\",\"detail\":\"Substitution 3\",\"comments\":null}]}\n",
            "Request {'fixture': 94849} returned 200\n",
            "{\"get\":\"fixtures\\/lineups\",\"parameters\":{\"fixture\":\"94849\"},\"errors\":[],\"results\":2,\"paging\":{\"current\":1,\"total\":1},\"response\":[{\"team\":{\"id\":128,\"name\":\"Santos\",\"logo\":\"https:\\/\\/media.api-sports.io\\/football\\/teams\\/128.png\",\"colors\":null},\"coach\":{\"id\":127,\"name\":\"J. Sampaoli\",\"photo\":\"https:\\/\\/media.api-sports.io\\/football\\/coachs\\/127.png\"},\"formation\":\"4-3-3\",\"startXI\":[{\"player\":{\"id\":9978,\"name\":\"Everson\",\"number\":22,\"pos\":\"G\",\"grid\":\"1:1\"}},{\"player\":{\"id\":9988,\"name\":\"Victor Ferraz\",\"number\":4,\"pos\":\"G\",\"grid\":\"2:4\"}},{\"player\":{\"id\":9992,\"name\":\"Gustavo Henrique\",\"number\":6,\"pos\":\"D\",\"grid\":\"2:3\"}},{\"player\":{\"id\":9987,\"name\":\"Diego Pituca\",\"number\":21,\"pos\":\"M\",\"grid\":\"2:2\"}},{\"player\":{\"id\":9985,\"name\":\"Jorge\",\"number\":3,\"pos\":\"D\",\"grid\":\"2:1\"}},{\"player\":{\"id\":9991,\"name\":\"Lucas Verissimo\",\"number\":28,\"pos\":\"D\",\"grid\":\"3:3\"}},{\"player\":{\"id\":10000,\"name\":\"C. S\\u00e1nchez\",\"number\":7,\"pos\":\"M\",\"grid\":\"3:2\"}},{\"player\":{\"id\":9995,\"name\":\"Alison\",\"number\":5,\"pos\":\"M\",\"grid\":\"3:1\"}},{\"player\":{\"id\":2454,\"name\":\"Y. Soteldo\",\"number\":10,\"pos\":\"F\",\"grid\":\"4:3\"}},{\"player\":{\"id\":10506,\"name\":\"Marinho\",\"number\":11,\"pos\":\"F\",\"grid\":\"4:2\"}},{\"player\":{\"id\":10004,\"name\":\"Eduardo Sasha\",\"number\":27,\"pos\":\"F\",\"grid\":\"4:1\"}}],\"substitutes\":[{\"player\":{\"id\":10002,\"name\":\"Jobson\",\"number\":20,\"pos\":\"M\",\"grid\":null}},{\"player\":{\"id\":9997,\"name\":\"Jean Mota\",\"number\":41,\"pos\":\"M\",\"grid\":null}},{\"player\":{\"id\":10001,\"name\":\"Sandry\",\"number\":38,\"pos\":\"M\",\"grid\":null}},{\"player\":{\"id\":9980,\"name\":\"F. Aguilar\",\"number\":26,\"pos\":\"D\",\"grid\":null}},{\"player\":{\"id\":19420,\"name\":\"Evandro\",\"number\":25,\"pos\":\"M\",\"grid\":null}},{\"player\":{\"id\":9977,\"name\":\"Vanderlei\",\"number\":1,\"pos\":\"G\",\"grid\":null}},{\"player\":{\"id\":119778,\"name\":\"Cadu\",\"number\":40,\"pos\":\"D\",\"grid\":null}},{\"player\":{\"id\":9986,\"name\":\"Luiz Felipe\",\"number\":2,\"pos\":\"D\",\"grid\":null}},{\"player\":{\"id\":51296,\"name\":\"Lucas Venuto\",\"number\":37,\"pos\":\"M\",\"grid\":null}},{\"player\":{\"id\":9999,\"name\":\"Tailson\",\"number\":39,\"pos\":\"M\",\"grid\":null}},{\"player\":{\"id\":10008,\"name\":\"Kaio Jorge\",\"number\":19,\"pos\":\"F\",\"grid\":null}},{\"player\":{\"id\":70366,\"name\":\"John\",\"number\":33,\"pos\":null,\"grid\":null}}]},{\"team\":{\"id\":127,\"name\":\"Flamengo\",\"logo\":\"https:\\/\\/media.api-sports.io\\/football\\/teams\\/127.png\",\"colors\":null},\"coach\":{\"id\":123,\"name\":\"Jorge Jesus\",\"photo\":\"https:\\/\\/media.api-sports.io\\/football\\/coachs\\/123.png\"},\"formation\":\"4-2-3-1\",\"startXI\":[{\"player\":{\"id\":10151,\"name\":\"Diego Alves\",\"number\":1,\"pos\":\"G\",\"grid\":\"1:1\"}},{\"player\":{\"id\":34,\"name\":\"Filipe Lu\\u00eds\",\"number\":16,\"pos\":\"D\",\"grid\":\"2:4\"}},{\"player\":{\"id\":46792,\"name\":\"Pablo Mar\\u00ed\",\"number\":4,\"pos\":\"D\",\"grid\":\"2:3\"}},{\"player\":{\"id\":10156,\"name\":\"Rodrigo Caio\",\"number\":3,\"pos\":\"D\",\"grid\":\"2:2\"}},{\"player\":{\"id\":10157,\"name\":\"Rodinei\",\"number\":2,\"pos\":\"D\",\"grid\":\"2:1\"}},{\"player\":{\"id\":10168,\"name\":\"\\u00c9verton Ribeiro\",\"number\":7,\"pos\":\"M\",\"grid\":\"3:2\"}},{\"player\":{\"id\":10173,\"name\":\"Willian Ar\\u00e3o\",\"number\":5,\"pos\":\"M\",\"grid\":\"3:1\"}},{\"player\":{\"id\":2612,\"name\":\"G. De Arrascaeta\",\"number\":14,\"pos\":\"M\",\"grid\":\"4:3\"}},{\"player\":{\"id\":30408,\"name\":\"Gerson\",\"number\":8,\"pos\":\"M\",\"grid\":\"4:2\"}},{\"player\":{\"id\":10174,\"name\":\"Gabriel Barbosa\",\"number\":9,\"pos\":\"F\",\"grid\":\"4:1\"}},{\"player\":{\"id\":10180,\"name\":\"Bruno Henrique\",\"number\":27,\"pos\":\"M\",\"grid\":\"5:1\"}}],\"substitutes\":[{\"player\":{\"id\":10177,\"name\":\"Vitinho\",\"number\":11,\"pos\":\"M\",\"grid\":null}},{\"player\":{\"id\":10171,\"name\":\"Diego\",\"number\":10,\"pos\":\"M\",\"grid\":null}},{\"player\":{\"id\":70368,\"name\":\"Jo\\u00e3o Lucas\",\"number\":32,\"pos\":\"D\",\"grid\":null}},{\"player\":{\"id\":10178,\"name\":\"Lincoln\",\"number\":29,\"pos\":\"F\",\"grid\":null}},{\"player\":{\"id\":10153,\"name\":\"C\\u00e9sar\",\"number\":37,\"pos\":\"G\",\"grid\":null}},{\"player\":{\"id\":10163,\"name\":\"Ren\\u00ea\",\"number\":6,\"pos\":\"D\",\"grid\":null}},{\"player\":{\"id\":10170,\"name\":\"Hugo Moura\",\"number\":17,\"pos\":\"M\",\"grid\":null}},{\"player\":{\"id\":10166,\"name\":\"Reinier\",\"number\":19,\"pos\":\"M\",\"grid\":null}},{\"player\":{\"id\":10165,\"name\":\"Thuler\",\"number\":26,\"pos\":\"D\",\"grid\":null}},{\"player\":{\"id\":10159,\"name\":\"Rhodolfo\",\"number\":44,\"pos\":\"D\",\"grid\":null}},{\"player\":{\"id\":10175,\"name\":\"O. Berr\\u00edo\",\"number\":28,\"pos\":\"M\",\"grid\":null}},{\"player\":{\"id\":2511,\"name\":\"R. Piris Da Motta\",\"number\":25,\"pos\":\"M\",\"grid\":null}}]}]}\n",
            "Request {'fixture': 94850} returned 200\n",
            "{\"get\":\"fixtures\\/events\",\"parameters\":{\"fixture\":\"94850\"},\"errors\":[],\"results\":13,\"paging\":{\"current\":1,\"total\":1},\"response\":[{\"time\":{\"elapsed\":11,\"extra\":null},\"team\":{\"id\":132,\"name\":\"Chapecoense-SC\",\"logo\":\"https:\\/\\/media.api-sports.io\\/football\\/teams\\/132.png\"},\"player\":{\"id\":10200,\"name\":\"Ca\\u00edque S\\u00e1\"},\"assist\":{\"id\":null,\"name\":null},\"type\":\"Card\",\"detail\":\"Yellow Card\",\"comments\":null},{\"time\":{\"elapsed\":42,\"extra\":null},\"team\":{\"id\":133,\"name\":\"Vasco DA Gama\",\"logo\":\"https:\\/\\/media.api-sports.io\\/football\\/teams\\/133.png\"},\"player\":{\"id\":10561,\"name\":\"Henrique\"},\"assist\":{\"id\":null,\"name\":null},\"type\":\"Card\",\"detail\":\"Yellow Card\",\"comments\":null},{\"time\":{\"elapsed\":46,\"extra\":null},\"team\":{\"id\":133,\"name\":\"Vasco DA Gama\",\"logo\":\"https:\\/\\/media.api-sports.io\\/football\\/teams\\/133.png\"},\"player\":{\"id\":10547,\"name\":\"Fernando Miguel\"},\"assist\":{\"id\":10548,\"name\":\"Sid\\u00e3o\"},\"type\":\"subst\",\"detail\":\"Substitution 1\",\"comments\":null},{\"time\":{\"elapsed\":57,\"extra\":null},\"team\":{\"id\":133,\"name\":\"Vasco DA Gama\",\"logo\":\"https:\\/\\/media.api-sports.io\\/football\\/teams\\/133.png\"},\"player\":{\"id\":10575,\"name\":\"Ribamar\"},\"assist\":{\"id\":143367,\"name\":\"Gabriel Pec\"},\"type\":\"subst\",\"detail\":\"Substitution 2\",\"comments\":null},{\"time\":{\"elapsed\":63,\"extra\":null},\"team\":{\"id\":132,\"name\":\"Chapecoense-SC\",\"logo\":\"https:\\/\\/media.api-sports.io\\/football\\/teams\\/132.png\"},\"player\":{\"id\":10006,\"name\":\"Arthur Gomes\"},\"assist\":{\"id\":53958,\"name\":\"Dalberto\"},\"type\":\"subst\",\"detail\":\"Substitution 1\",\"comments\":null},{\"time\":{\"elapsed\":68,\"extra\":null},\"team\":{\"id\":133,\"name\":\"Vasco DA Gama\",\"logo\":\"https:\\/\\/media.api-sports.io\\/football\\/teams\\/133.png\"},\"player\":{\"id\":10569,\"name\":\"Fellipe Bastos\"},\"assist\":{\"id\":10564,\"name\":\"Marcos J\\u00fanior\"},\"type\":\"subst\",\"detail\":\"Substitution 3\",\"comments\":null},{\"time\":{\"elapsed\":72,\"extra\":null},\"team\":{\"id\":132,\"name\":\"Chapecoense-SC\",\"logo\":\"https:\\/\\/media.api-sports.io\\/football\\/teams\\/132.png\"},\"player\":{\"id\":10198,\"name\":\"Tharlis\"},\"assist\":{\"id\":10208,\"name\":\"Vin\\u00edcius\"},\"type\":\"subst\",\"detail\":\"Substitution 2\",\"comments\":null},{\"time\":{\"elapsed\":76,\"extra\":null},\"team\":{\"id\":132,\"name\":\"Chapecoense-SC\",\"logo\":\"https:\\/\\/media.api-sports.io\\/football\\/teams\\/132.png\"},\"player\":{\"id\":10213,\"name\":\"Elicarlos\"},\"assist\":{\"id\":null,\"name\":null},\"type\":\"Card\",\"detail\":\"Yellow Card\",\"comments\":null},{\"time\":{\"elapsed\":82,\"extra\":null},\"team\":{\"id\":132,\"name\":\"Chapecoense-SC\",\"logo\":\"https:\\/\\/media.api-sports.io\\/football\\/teams\\/132.png\"},\"player\":{\"id\":42100,\"name\":\"Mauricio Ramos\"},\"assist\":{\"id\":null,\"name\":null},\"type\":\"Card\",\"detail\":\"Yellow Card\",\"comments\":null},{\"time\":{\"elapsed\":84,\"extra\":null},\"team\":{\"id\":133,\"name\":\"Vasco DA Gama\",\"logo\":\"https:\\/\\/media.api-sports.io\\/football\\/teams\\/133.png\"},\"player\":{\"id\":10581,\"name\":\"Yago Pikachu\"},\"assist\":{\"id\":null,\"name\":null},\"type\":\"Goal\",\"detail\":\"Penalty\",\"comments\":null},{\"time\":{\"elapsed\":85,\"extra\":null},\"team\":{\"id\":133,\"name\":\"Vasco DA Gama\",\"logo\":\"https:\\/\\/media.api-sports.io\\/football\\/teams\\/133.png\"},\"player\":{\"id\":10581,\"name\":\"Yago Pikachu\"},\"assist\":{\"id\":null,\"name\":null},\"type\":\"Card\",\"detail\":\"Yellow Card\",\"comments\":null},{\"time\":{\"elapsed\":86,\"extra\":null},\"team\":{\"id\":132,\"name\":\"Chapecoense-SC\",\"logo\":\"https:\\/\\/media.api-sports.io\\/football\\/teams\\/132.png\"},\"player\":{\"id\":10213,\"name\":\"Elicarlos\"},\"assist\":{\"id\":10214,\"name\":\"D. Torres\"},\"type\":\"subst\",\"detail\":\"Substitution 3\",\"comments\":null},{\"time\":{\"elapsed\":90,\"extra\":3},\"team\":{\"id\":132,\"name\":\"Chapecoense-SC\",\"logo\":\"https:\\/\\/media.api-sports.io\\/football\\/teams\\/132.png\"},\"player\":{\"id\":10208,\"name\":\"Vin\\u00edcius\"},\"assist\":{\"id\":53958,\"name\":\"Dalberto\"},\"type\":\"Goal\",\"detail\":\"Normal Goal\",\"comments\":null}]}\n",
            "Request {'fixture': 94850} returned 200\n",
            "{\"get\":\"fixtures\\/lineups\",\"parameters\":{\"fixture\":\"94850\"},\"errors\":[],\"results\":2,\"paging\":{\"current\":1,\"total\":1},\"response\":[{\"team\":{\"id\":133,\"name\":\"Vasco DA Gama\",\"logo\":\"https:\\/\\/media.api-sports.io\\/football\\/teams\\/133.png\",\"colors\":null},\"coach\":{\"id\":128,\"name\":\"Vanderlei Luxemburgo\",\"photo\":\"https:\\/\\/media.api-sports.io\\/football\\/coachs\\/128.png\"},\"formation\":\"4-3-3\",\"startXI\":[{\"player\":{\"id\":10547,\"name\":\"Fernando Miguel\",\"number\":1,\"pos\":\"G\",\"grid\":\"1:1\"}},{\"player\":{\"id\":10558,\"name\":\"O. Henr\\u00edquez\",\"number\":3,\"pos\":\"D\",\"grid\":\"2:4\"}},{\"player\":{\"id\":10553,\"name\":\"Leandro Cast\\u00e1n\",\"number\":5,\"pos\":\"D\",\"grid\":\"2:3\"}},{\"player\":{\"id\":10561,\"name\":\"Henrique\",\"number\":37,\"pos\":\"D\",\"grid\":\"2:2\"}},{\"player\":{\"id\":10569,\"name\":\"Fellipe Bastos\",\"number\":6,\"pos\":\"M\",\"grid\":\"2:1\"}},{\"player\":{\"id\":12965,\"name\":\"F. Guar\\u00edn\",\"number\":13,\"pos\":\"M\",\"grid\":\"3:3\"}},{\"player\":{\"id\":10581,\"name\":\"Yago Pikachu\",\"number\":22,\"pos\":\"D\",\"grid\":\"3:2\"}},{\"player\":{\"id\":10281,\"name\":\"Raul\",\"number\":31,\"pos\":\"M\",\"grid\":\"3:1\"}},{\"player\":{\"id\":10578,\"name\":\"Rossi\",\"number\":7,\"pos\":\"F\",\"grid\":\"4:3\"}},{\"player\":{\"id\":10575,\"name\":\"Ribamar\",\"number\":9,\"pos\":\"F\",\"grid\":\"4:2\"}},{\"player\":{\"id\":10574,\"name\":\"Marrony\",\"number\":38,\"pos\":\"F\",\"grid\":\"4:1\"}}],\"substitutes\":[{\"player\":{\"id\":10548,\"name\":\"Sid\\u00e3o\",\"number\":12,\"pos\":\"G\",\"grid\":null}},{\"player\":{\"id\":143367,\"name\":\"Gabriel Pec\",\"number\":32,\"pos\":\"M\",\"grid\":null}},{\"player\":{\"id\":10564,\"name\":\"Marcos J\\u00fanior\",\"number\":19,\"pos\":\"M\",\"grid\":null}},{\"player\":{\"id\":10552,\"name\":\"Danilo Barcelos\",\"number\":14,\"pos\":\"D\",\"grid\":null}},{\"player\":{\"id\":10571,\"name\":\"Andrey\",\"number\":15,\"pos\":\"M\",\"grid\":null}},{\"player\":{\"id\":143368,\"name\":\"Bruno Gomes\",\"number\":41,\"pos\":\"M\",\"grid\":null}},{\"player\":{\"id\":10551,\"name\":\"R. C\\u00e1ceres\",\"number\":2,\"pos\":\"D\",\"grid\":null}},{\"player\":{\"id\":10579,\"name\":\"Tiago Reis\",\"number\":27,\"pos\":\"F\",\"grid\":null}},{\"player\":{\"id\":10550,\"name\":\"Werley\",\"number\":34,\"pos\":\"D\",\"grid\":null}},{\"player\":{\"id\":10573,\"name\":\"Bruno C\\u00e9sar\",\"number\":10,\"pos\":\"M\",\"grid\":null}},{\"player\":{\"id\":9783,\"name\":\"Felipe Ferreira\",\"number\":18,\"pos\":\"M\",\"grid\":null}},{\"player\":{\"id\":10132,\"name\":\"Marquinho\",\"number\":8,\"pos\":\"M\",\"grid\":null}}]},{\"team\":{\"id\":132,\"name\":\"Chapecoense-SC\",\"logo\":\"https:\\/\\/media.api-sports.io\\/football\\/teams\\/132.png\",\"colors\":null},\"coach\":{\"id\":142,\"name\":\"Marquinhos Santos\",\"photo\":\"https:\\/\\/media.api-sports.io\\/football\\/coachs\\/142.png\"},\"formation\":\"4-1-4-1\",\"startXI\":[{\"player\":{\"id\":10186,\"name\":\"Jo\\u00e3o Ricardo\",\"number\":1,\"pos\":\"G\",\"grid\":\"1:1\"}},{\"player\":{\"id\":10197,\"name\":\"Eduardo\",\"number\":2,\"pos\":\"D\",\"grid\":\"2:4\"}},{\"player\":{\"id\":42100,\"name\":\"Maur\\u00edcio Ramos\",\"number\":44,\"pos\":\"D\",\"grid\":\"2:3\"}},{\"player\":{\"id\":10199,\"name\":\"Douglas\",\"number\":23,\"pos\":\"D\",\"grid\":\"2:2\"}},{\"player\":{\"id\":10193,\"name\":\"Roberto\",\"number\":90,\"pos\":\"M\",\"grid\":\"2:1\"}},{\"player\":{\"id\":10200,\"name\":\"Caique S\\u00e1\",\"number\":22,\"pos\":\"D\",\"grid\":\"3:1\"}},{\"player\":{\"id\":10198,\"name\":\"Tharlis\",\"number\":85,\"pos\":\"M\",\"grid\":\"4:4\"}},{\"player\":{\"id\":10213,\"name\":\"Elicarlos\",\"number\":86,\"pos\":\"M\",\"grid\":\"4:3\"}},{\"player\":{\"id\":10211,\"name\":\"M\\u00e1rcio Ara\\u00fajo\",\"number\":8,\"pos\":\"M\",\"grid\":\"4:2\"}},{\"player\":{\"id\":10390,\"name\":\"Camilo\",\"number\":88,\"pos\":\"F\",\"grid\":\"4:1\"}},{\"player\":{\"id\":10006,\"name\":\"Arthur Gomes\",\"number\":27,\"pos\":\"M\",\"grid\":\"5:1\"}}],\"substitutes\":[{\"player\":{\"id\":53958,\"name\":\"Dalberto\",\"number\":29,\"pos\":\"M\",\"grid\":null}},{\"player\":{\"id\":10208,\"name\":\"Vin\\u00edcius\",\"number\":63,\"pos\":\"M\",\"grid\":null}},{\"player\":{\"id\":10214,\"name\":\"D. Torres\",\"number\":12,\"pos\":\"M\",\"grid\":null}},{\"player\":{\"id\":10184,\"name\":\"Elias\",\"number\":95,\"pos\":\"G\",\"grid\":null}},{\"player\":{\"id\":10209,\"name\":\"Ronei\",\"number\":15,\"pos\":\"M\",\"grid\":null}},{\"player\":{\"id\":10187,\"name\":\"Tiepo\",\"number\":98,\"pos\":\"G\",\"grid\":null}},{\"player\":{\"id\":80271,\"name\":\"Gabriel Calabres\",\"number\":32,\"pos\":\"M\",\"grid\":null}}]}]}\n",
            "8\n"
          ]
        }
      ]
    },
    {
      "cell_type": "markdown",
      "metadata": {
        "id": "ADpkP5BQrUO1"
      },
      "source": [
        "# Numero Atual Salvo"
      ]
    },
    {
      "cell_type": "code",
      "metadata": {
        "colab": {
          "base_uri": "https://localhost:8080/"
        },
        "id": "2ATnTaGLqxiG",
        "outputId": "ac3b3dbf-b2a5-45fc-d36c-7682bd47e20d"
      },
      "source": [
        "print(len(lineups_dict.keys()))\n",
        "print(len(events_dict.keys()))"
      ],
      "execution_count": null,
      "outputs": [
        {
          "output_type": "stream",
          "name": "stdout",
          "text": [
            "380\n",
            "380\n"
          ]
        }
      ]
    },
    {
      "cell_type": "markdown",
      "metadata": {
        "id": "BTYPC9zpqgyj"
      },
      "source": [
        "# Teste"
      ]
    },
    {
      "cell_type": "markdown",
      "metadata": {
        "id": "cTBM2dy1u6bA"
      },
      "source": [
        "## Teste de Partidas"
      ]
    },
    {
      "cell_type": "code",
      "metadata": {
        "id": "d-wZi7BHqgST"
      },
      "source": [
        "path_to_fixtures = '/content/drive/MyDrive/MC536 - Grupo GOLDB/JSON/fixtures.json'\n",
        "path_to_fixtures_events = '/content/drive/MyDrive/MC536 - Grupo GOLDB/JSON/fixtures-events.json'\n",
        "path_to_lineups = '/content/drive/MyDrive/MC536 - Grupo GOLDB/JSON/fixtures-lineups.json'\n",
        "\n",
        "with open(path_to_fixtures, 'r') as f:\n",
        "    data = f.read()\n",
        "    f.close()\n",
        "\n",
        "json_obj = json.loads(data)"
      ],
      "execution_count": 3,
      "outputs": []
    },
    {
      "cell_type": "code",
      "metadata": {
        "colab": {
          "base_uri": "https://localhost:8080/"
        },
        "id": "bKMpKsuiuo19",
        "outputId": "41be4a02-d353-4a4a-ff54-3e4df5210327"
      },
      "source": [
        "json_obj['response'][0].keys()"
      ],
      "execution_count": 7,
      "outputs": [
        {
          "output_type": "execute_result",
          "data": {
            "text/plain": [
              "dict_keys(['fixture', 'league', 'teams', 'goals', 'score'])"
            ]
          },
          "metadata": {},
          "execution_count": 7
        }
      ]
    },
    {
      "cell_type": "code",
      "metadata": {
        "colab": {
          "base_uri": "https://localhost:8080/"
        },
        "id": "R6DBpAKEu33g",
        "outputId": "de44fb3b-160c-4b89-caeb-162adf6e388d"
      },
      "source": [
        "json_obj['response'][0]['fixture']"
      ],
      "execution_count": 8,
      "outputs": [
        {
          "output_type": "execute_result",
          "data": {
            "text/plain": [
              "{'date': '2019-04-28T19:00:00+00:00',\n",
              " 'id': 94471,\n",
              " 'periods': {'first': 1556478000, 'second': 1556481600},\n",
              " 'referee': 'Luiz Flavio De Oliveira, Brazil',\n",
              " 'status': {'elapsed': 90, 'long': 'Match Finished', 'short': 'FT'},\n",
              " 'timestamp': 1556478000,\n",
              " 'timezone': 'UTC',\n",
              " 'venue': {'city': 'Curitiba', 'id': None, 'name': 'Arena da Baixada'}}"
            ]
          },
          "metadata": {},
          "execution_count": 8
        }
      ]
    },
    {
      "cell_type": "code",
      "metadata": {
        "colab": {
          "base_uri": "https://localhost:8080/"
        },
        "id": "3s0iNZT7vP__",
        "outputId": "8e87371f-b012-41c8-e20b-51c8192a404c"
      },
      "source": [
        "json_obj['response'][0]['score']"
      ],
      "execution_count": 12,
      "outputs": [
        {
          "output_type": "execute_result",
          "data": {
            "text/plain": [
              "{'extratime': {'away': None, 'home': None},\n",
              " 'fulltime': {'away': 1, 'home': 4},\n",
              " 'halftime': {'away': 0, 'home': 2},\n",
              " 'penalty': {'away': None, 'home': None}}"
            ]
          },
          "metadata": {},
          "execution_count": 12
        }
      ]
    },
    {
      "cell_type": "markdown",
      "metadata": {
        "id": "wg9l7LnwwOJV"
      },
      "source": [
        "## Fixture Events"
      ]
    },
    {
      "cell_type": "code",
      "metadata": {
        "id": "9O1gVJRnwP-w"
      },
      "source": [
        "events_dict = dict()\n",
        "# caso existam partidas com eventos já salvos\n",
        "if path_to_fixtures_events is not None:\n",
        "    with open(path_to_fixtures_events, 'r') as f:\n",
        "        previous_events_data = f.read()\n",
        "        f.close()\n",
        "    events_dict = json.loads(previous_events_data)"
      ],
      "execution_count": 13,
      "outputs": []
    },
    {
      "cell_type": "code",
      "metadata": {
        "colab": {
          "base_uri": "https://localhost:8080/"
        },
        "id": "zP-MZUG7wijT",
        "outputId": "cbf91a01-c4b1-456f-d94b-d7859fb45c74"
      },
      "source": [
        "events_dict['94471']"
      ],
      "execution_count": 21,
      "outputs": [
        {
          "output_type": "execute_result",
          "data": {
            "text/plain": [
              "[{'assist': {'id': 10150, 'name': 'M. Ruben'},\n",
              "  'comments': None,\n",
              "  'detail': 'Normal Goal',\n",
              "  'player': {'id': 10135, 'name': 'Bruno Guimarães'},\n",
              "  'team': {'id': 134,\n",
              "   'logo': 'https://media.api-sports.io/football/teams/134.png',\n",
              "   'name': 'Atletico Paranaense'},\n",
              "  'time': {'elapsed': 3, 'extra': None},\n",
              "  'type': 'Goal'},\n",
              " {'assist': {'id': 10128, 'name': 'Wellington'},\n",
              "  'comments': None,\n",
              "  'detail': 'Substitution 1',\n",
              "  'player': {'id': 10131, 'name': 'Camacho'},\n",
              "  'team': {'id': 134,\n",
              "   'logo': 'https://media.api-sports.io/football/teams/134.png',\n",
              "   'name': 'Atletico Paranaense'},\n",
              "  'time': {'elapsed': 34, 'extra': None},\n",
              "  'type': 'subst'},\n",
              " {'assist': {'id': None, 'name': None},\n",
              "  'comments': None,\n",
              "  'detail': 'Normal Goal',\n",
              "  'player': {'id': 10150, 'name': 'M. Ruben'},\n",
              "  'team': {'id': 134,\n",
              "   'logo': 'https://media.api-sports.io/football/teams/134.png',\n",
              "   'name': 'Atletico Paranaense'},\n",
              "  'time': {'elapsed': 45, 'extra': None},\n",
              "  'type': 'Goal'},\n",
              " {'assist': {'id': None, 'name': None},\n",
              "  'comments': None,\n",
              "  'detail': 'Yellow Card',\n",
              "  'player': {'id': 10281, 'name': 'Raul'},\n",
              "  'team': {'id': 133,\n",
              "   'logo': 'https://media.api-sports.io/football/teams/133.png',\n",
              "   'name': 'Vasco DA Gama'},\n",
              "  'time': {'elapsed': 56, 'extra': None},\n",
              "  'type': 'Card'},\n",
              " {'assist': {'id': 10575, 'name': 'Ribamar'},\n",
              "  'comments': None,\n",
              "  'detail': 'Substitution 1',\n",
              "  'player': {'id': 10576, 'name': 'M. López'},\n",
              "  'team': {'id': 133,\n",
              "   'logo': 'https://media.api-sports.io/football/teams/133.png',\n",
              "   'name': 'Vasco DA Gama'},\n",
              "  'time': {'elapsed': 58, 'extra': None},\n",
              "  'type': 'subst'},\n",
              " {'assist': {'id': 10570, 'name': 'Yan Sasse'},\n",
              "  'comments': None,\n",
              "  'detail': 'Substitution 2',\n",
              "  'player': {'id': 10581, 'name': 'Yago Pikachu'},\n",
              "  'team': {'id': 133,\n",
              "   'logo': 'https://media.api-sports.io/football/teams/133.png',\n",
              "   'name': 'Vasco DA Gama'},\n",
              "  'time': {'elapsed': 58, 'extra': None},\n",
              "  'type': 'subst'},\n",
              " {'assist': {'id': None, 'name': None},\n",
              "  'comments': None,\n",
              "  'detail': 'Own Goal',\n",
              "  'player': {'id': 10550, 'name': 'Werley'},\n",
              "  'team': {'id': 134,\n",
              "   'logo': 'https://media.api-sports.io/football/teams/134.png',\n",
              "   'name': 'Atletico Paranaense'},\n",
              "  'time': {'elapsed': 66, 'extra': None},\n",
              "  'type': 'Goal'},\n",
              " {'assist': {'id': 10573, 'name': 'Bruno César'},\n",
              "  'comments': None,\n",
              "  'detail': 'Substitution 3',\n",
              "  'player': {'id': 10557, 'name': 'Miranda'},\n",
              "  'team': {'id': 133,\n",
              "   'logo': 'https://media.api-sports.io/football/teams/133.png',\n",
              "   'name': 'Vasco DA Gama'},\n",
              "  'time': {'elapsed': 68, 'extra': None},\n",
              "  'type': 'subst'},\n",
              " {'assist': {'id': 10142, 'name': 'Marcelo Cirino'},\n",
              "  'comments': None,\n",
              "  'detail': 'Substitution 2',\n",
              "  'player': {'id': 10150, 'name': 'M. Ruben'},\n",
              "  'team': {'id': 134,\n",
              "   'logo': 'https://media.api-sports.io/football/teams/134.png',\n",
              "   'name': 'Atletico Paranaense'},\n",
              "  'time': {'elapsed': 69, 'extra': None},\n",
              "  'type': 'subst'},\n",
              " {'assist': {'id': 10119, 'name': 'Márcio Azevedo'},\n",
              "  'comments': None,\n",
              "  'detail': 'Substitution 3',\n",
              "  'player': {'id': 10135, 'name': 'Bruno Guimarães'},\n",
              "  'team': {'id': 134,\n",
              "   'logo': 'https://media.api-sports.io/football/teams/134.png',\n",
              "   'name': 'Atletico Paranaense'},\n",
              "  'time': {'elapsed': 77, 'extra': None},\n",
              "  'type': 'subst'},\n",
              " {'assist': {'id': None, 'name': None},\n",
              "  'comments': None,\n",
              "  'detail': 'Yellow Card',\n",
              "  'player': {'id': 10121, 'name': 'Thiago Heleno'},\n",
              "  'team': {'id': 134,\n",
              "   'logo': 'https://media.api-sports.io/football/teams/134.png',\n",
              "   'name': 'Atletico Paranaense'},\n",
              "  'time': {'elapsed': 86, 'extra': None},\n",
              "  'type': 'Card'},\n",
              " {'assist': {'id': 10143, 'name': 'Rony'},\n",
              "  'comments': None,\n",
              "  'detail': 'Normal Goal',\n",
              "  'player': {'id': 10133, 'name': 'Nikão'},\n",
              "  'team': {'id': 134,\n",
              "   'logo': 'https://media.api-sports.io/football/teams/134.png',\n",
              "   'name': 'Atletico Paranaense'},\n",
              "  'time': {'elapsed': 86, 'extra': None},\n",
              "  'type': 'Goal'},\n",
              " {'assist': {'id': 10574, 'name': 'Marrony'},\n",
              "  'comments': None,\n",
              "  'detail': 'Normal Goal',\n",
              "  'player': {'id': 10573, 'name': 'Bruno César'},\n",
              "  'team': {'id': 133,\n",
              "   'logo': 'https://media.api-sports.io/football/teams/133.png',\n",
              "   'name': 'Vasco DA Gama'},\n",
              "  'time': {'elapsed': 89, 'extra': None},\n",
              "  'type': 'Goal'}]"
            ]
          },
          "metadata": {},
          "execution_count": 21
        }
      ]
    },
    {
      "cell_type": "code",
      "metadata": {
        "id": "8GIyarYbxUFF"
      },
      "source": [
        ""
      ],
      "execution_count": null,
      "outputs": []
    },
    {
      "cell_type": "markdown",
      "metadata": {
        "id": "YPS05oCzxhZR"
      },
      "source": [
        "## Escalações"
      ]
    },
    {
      "cell_type": "code",
      "metadata": {
        "id": "IXO88azNxk6r"
      },
      "source": [
        "lineups_dict = dict()\n",
        "# caso existam partidas com lineups já salvos\n",
        "if path_to_lineups is not None:\n",
        "    with open(path_to_lineups, 'r') as f:\n",
        "        previous_lineups_data = f.read()\n",
        "        f.close()\n",
        "    lineups_dict = json.loads(previous_lineups_data)"
      ],
      "execution_count": 22,
      "outputs": []
    },
    {
      "cell_type": "code",
      "metadata": {
        "colab": {
          "base_uri": "https://localhost:8080/"
        },
        "id": "m2MzIfzpxv26",
        "outputId": "0b0d5cc6-1ed9-47fb-9bee-aa3d0baae095"
      },
      "source": [
        "lineups_dict['94471'][0].keys()"
      ],
      "execution_count": 29,
      "outputs": [
        {
          "output_type": "execute_result",
          "data": {
            "text/plain": [
              "dict_keys(['team', 'coach', 'formation', 'startXI', 'substitutes'])"
            ]
          },
          "metadata": {},
          "execution_count": 29
        }
      ]
    },
    {
      "cell_type": "code",
      "metadata": {
        "id": "Zmswq4WXyy6g"
      },
      "source": [
        "lineups_dict['94471'][1]['startXI']"
      ],
      "execution_count": null,
      "outputs": []
    }
  ]
}