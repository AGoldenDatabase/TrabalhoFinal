{
  "nbformat": 4,
  "nbformat_minor": 0,
  "metadata": {
    "colab": {
      "name": "analiseAtaqueDefesa.ipynb",
      "provenance": []
    },
    "kernelspec": {
      "name": "python3",
      "display_name": "Python 3"
    },
    "language_info": {
      "name": "python"
    }
  },
  "cells": [
    {
      "cell_type": "code",
      "metadata": {
        "id": "aqJjl58llr_v"
      },
      "source": [
        "import sqlite3 as sq\n",
        "import pandas as pd"
      ],
      "execution_count": 1,
      "outputs": []
    },
    {
      "cell_type": "code",
      "metadata": {
        "id": "aSRjMsXN6lpV"
      },
      "source": [
        "partidas = pd.read_csv('https://raw.githubusercontent.com/AGoldenDatabase/TrabalhoFinal/main/final/data/processed/partidas.csv')\n",
        "golStats = pd.read_csv('https://raw.githubusercontent.com/AGoldenDatabase/TrabalhoFinal/main/final/data/processed/golStats.csv')"
      ],
      "execution_count": 2,
      "outputs": []
    },
    {
      "cell_type": "code",
      "metadata": {
        "id": "vuHLJnMnmXYe"
      },
      "source": [
        "con = sq.connect('GOLDB.db')\n",
        "partidas.to_sql('Partidas', con, if_exists=\"replace\", index=False)\n",
        "golStats.to_sql('GolStats', con, if_exists=\"replace\", index=False)"
      ],
      "execution_count": 4,
      "outputs": []
    },
    {
      "cell_type": "code",
      "metadata": {
        "id": "kkpYu4jlGn6h"
      },
      "source": [
        "cur = con.cursor()\n",
        "cmd = '''CREATE VIEW ataqueDefesa AS SELECT GS.nome, GS.jogosSemTomarGol, GS.jogosSemMarcarGol FROM GolStats GS;'''\n",
        "cur.execute(cmd)"
      ],
      "execution_count": null,
      "outputs": []
    },
    {
      "cell_type": "code",
      "metadata": {
        "id": "PBc3RFdhLopq"
      },
      "source": [
        "cmd = '''CREATE VIEW Resultados AS\n",
        "SELECT P.Home, P.Away, P.Res FROM Partidas P WHERE P.Res = 'A';'''\n",
        "cur.execute(cmd)"
      ],
      "execution_count": null,
      "outputs": []
    },
    {
      "cell_type": "code",
      "metadata": {
        "colab": {
          "base_uri": "https://localhost:8080/"
        },
        "id": "lg2GIbnoICjU",
        "outputId": "26b67c31-1cba-438c-a431-8a5a1843ac19"
      },
      "source": [
        "cmd = '''SELECT * FROM ataqueDefesa ORDER BY jogosSemTomarGol DESC;'''\n",
        "cur.execute(cmd).fetchall()"
      ],
      "execution_count": 21,
      "outputs": [
        {
          "output_type": "execute_result",
          "data": {
            "text/plain": [
              "[('Santos', 17, 10),\n",
              " ('Corinthians', 17, 10),\n",
              " ('Palmeiras', 15, 4),\n",
              " ('Atletico Paranaense', 15, 7),\n",
              " ('Sao Paulo', 15, 14),\n",
              " ('Flamengo', 14, 4),\n",
              " ('Gremio', 14, 8),\n",
              " ('Bahia', 14, 9),\n",
              " ('Cruzeiro', 13, 16),\n",
              " ('Internacional', 12, 11),\n",
              " ('Fluminense', 11, 13),\n",
              " ('Goias', 10, 9),\n",
              " ('Vasco DA Gama', 10, 10),\n",
              " ('Botafogo', 10, 19),\n",
              " ('CSA', 10, 20),\n",
              " ('Avai', 9, 21),\n",
              " ('Fortaleza EC', 8, 10),\n",
              " ('Ceara', 8, 16),\n",
              " ('Chapecoense-sc', 8, 15),\n",
              " ('Atletico-MG', 7, 11)]"
            ]
          },
          "metadata": {},
          "execution_count": 21
        }
      ]
    },
    {
      "cell_type": "code",
      "metadata": {
        "colab": {
          "base_uri": "https://localhost:8080/"
        },
        "id": "hNTQzHOYJXXQ",
        "outputId": "3b4e7561-4ace-4bbf-91ff-f5eadbc5cca4"
      },
      "source": [
        "cmd = '''SELECT Away, COUNT(*) FROM Resultados GROUP BY Away ORDER BY COUNT(*) DESC;'''\n",
        "cur.execute(cmd).fetchall()"
      ],
      "execution_count": 27,
      "outputs": [
        {
          "output_type": "execute_result",
          "data": {
            "text/plain": [
              "[('Flamengo', 11),\n",
              " ('Palmeiras', 8),\n",
              " ('Santos', 8),\n",
              " ('Gremio', 7),\n",
              " ('Sao Paulo', 7),\n",
              " ('Atletico Paranaense', 6),\n",
              " ('Fluminense', 6),\n",
              " ('Bahia', 5),\n",
              " ('Internacional', 5),\n",
              " ('Vasco DA Gama', 5),\n",
              " ('Botafogo', 4),\n",
              " ('Corinthians', 4),\n",
              " ('Fortaleza EC', 4),\n",
              " ('Goias', 4),\n",
              " ('Atletico-MG', 3),\n",
              " ('Chapecoense-sc', 3),\n",
              " ('Avai', 2),\n",
              " ('CSA', 2),\n",
              " ('Ceara', 2),\n",
              " ('Cruzeiro', 2)]"
            ]
          },
          "metadata": {},
          "execution_count": 27
        }
      ]
    },
    {
      "cell_type": "code",
      "metadata": {
        "id": "uYojdOZEQz5w"
      },
      "source": [
        "con.commit()\n",
        "con.close()"
      ],
      "execution_count": 28,
      "outputs": []
    }
  ]
}